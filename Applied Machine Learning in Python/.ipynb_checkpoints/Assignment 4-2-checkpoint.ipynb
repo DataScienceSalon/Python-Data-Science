{
 "cells": [
  {
   "cell_type": "markdown",
   "metadata": {},
   "source": [
    "---\n",
    "\n",
    "_You are currently looking at **version 1.0** of this notebook. To download notebooks and datafiles, as well as get help on Jupyter notebooks in the Coursera platform, visit the [Jupyter Notebook FAQ](https://www.coursera.org/learn/python-machine-learning/resources/bANLa) course resource._\n",
    "\n",
    "---"
   ]
  },
  {
   "cell_type": "markdown",
   "metadata": {},
   "source": [
    "## Assignment 4 - Understanding and Predicting Property Maintenance Fines\n",
    "\n",
    "This assignment is based on a data challenge from the Michigan Data Science Team ([MDST](http://midas.umich.edu/mdst/)). \n",
    "\n",
    "The Michigan Data Science Team ([MDST](http://midas.umich.edu/mdst/)) and the Michigan Student Symposium for Interdisciplinary Statistical Sciences ([MSSISS](https://sites.lsa.umich.edu/mssiss/)) have partnered with the City of Detroit to help solve one of the most pressing problems facing Detroit - blight. [Blight violations](http://www.detroitmi.gov/How-Do-I/Report/Blight-Complaint-FAQs) are issued by the city to individuals who allow their properties to remain in a deteriorated condition. Every year, the city of Detroit issues millions of dollars in fines to residents and every year, many of these fines remain unpaid. Enforcing unpaid blight fines is a costly and tedious process, so the city wants to know: how can we increase blight ticket compliance?\n",
    "\n",
    "The first step in answering this question is understanding when and why a resident might fail to comply with a blight ticket. This is where predictive modeling comes in. For this assignment, your task is to predict whether a given blight ticket will be paid on time.\n",
    "\n",
    "All data for this assignment has been provided to us through the [Detroit Open Data Portal](https://data.detroitmi.gov/). **Only the data already included in your Coursera directory can be used for training the model for this assignment.** Nonetheless, we encourage you to look into data from other Detroit datasets to help inform feature creation and model selection. We recommend taking a look at the following related datasets:\n",
    "\n",
    "* [Building Permits](https://data.detroitmi.gov/Property-Parcels/Building-Permits/xw2a-a7tf)\n",
    "* [Trades Permits](https://data.detroitmi.gov/Property-Parcels/Trades-Permits/635b-dsgv)\n",
    "* [Improve Detroit: Submitted Issues](https://data.detroitmi.gov/Government/Improve-Detroit-Submitted-Issues/fwz3-w3yn)\n",
    "* [DPD: Citizen Complaints](https://data.detroitmi.gov/Public-Safety/DPD-Citizen-Complaints-2016/kahe-efs3)\n",
    "* [Parcel Map](https://data.detroitmi.gov/Property-Parcels/Parcel-Map/fxkw-udwf)\n",
    "\n",
    "___\n",
    "\n",
    "We provide you with two data files for use in training and validating your models: train.csv and test.csv. Each row in these two files corresponds to a single blight ticket, and includes information about when, why, and to whom each ticket was issued. The target variable is compliance, which is True if the ticket was paid early, on time, or within one month of the hearing data, False if the ticket was paid after the hearing date or not at all, and Null if the violator was found not responsible. Compliance, as well as a handful of other variables that will not be available at test-time, are only included in train.csv.\n",
    "\n",
    "Note: All tickets where the violators were found not responsible are not considered during evaluation. They are included in the training set as an additional source of data for visualization, and to enable unsupervised and semi-supervised approaches. However, they are not included in the test set.\n",
    "\n",
    "<br>\n",
    "\n",
    "**File descriptions** (Use only this data for training your model!)\n",
    "\n",
    "    train.csv - the training set (all tickets issued 2004-2011)\n",
    "    test.csv - the test set (all tickets issued 2012-2016)\n",
    "    addresses.csv & latlons.csv - mapping from ticket id to addresses, and from addresses to lat/lon coordinates. \n",
    "     Note: misspelled addresses may be incorrectly geolocated.\n",
    "\n",
    "<br>\n",
    "\n",
    "**Data fields**\n",
    "\n",
    "train.csv & test.csv\n",
    "\n",
    "    ticket_id - unique identifier for tickets\n",
    "    agency_name - Agency that issued the ticket\n",
    "    inspector_name - Name of inspector that issued the ticket\n",
    "    violator_name - Name of the person/organization that the ticket was issued to\n",
    "    violation_street_number, violation_street_name, violation_zip_code - Address where the violation occurred\n",
    "    mailing_address_str_number, mailing_address_str_name, city, state, zip_code, non_us_str_code, country - Mailing address of the violator\n",
    "    ticket_issued_date - Date and time the ticket was issued\n",
    "    hearing_date - Date and time the violator's hearing was scheduled\n",
    "    violation_code, violation_description - Type of violation\n",
    "    disposition - Judgment and judgement type\n",
    "    fine_amount - Violation fine amount, excluding fees\n",
    "    admin_fee - $20 fee assigned to responsible judgments\n",
    "state_fee - $10 fee assigned to responsible judgments\n",
    "    late_fee - 10% fee assigned to responsible judgments\n",
    "    discount_amount - discount applied, if any\n",
    "    clean_up_cost - DPW clean-up or graffiti removal cost\n",
    "    judgment_amount - Sum of all fines and fees\n",
    "    grafitti_status - Flag for graffiti violations\n",
    "    \n",
    "train.csv only\n",
    "\n",
    "    payment_amount - Amount paid, if any\n",
    "    payment_date - Date payment was made, if it was received\n",
    "    payment_status - Current payment status as of Feb 1 2017\n",
    "    balance_due - Fines and fees still owed\n",
    "    collection_status - Flag for payments in collections\n",
    "    compliance [target variable for prediction] \n",
    "     Null = Not responsible\n",
    "     0 = Responsible, non-compliant\n",
    "     1 = Responsible, compliant\n",
    "    compliance_detail - More information on why each ticket was marked compliant or non-compliant\n",
    "\n",
    "\n",
    "___\n",
    "\n",
    "## Evaluation\n",
    "\n",
    "Your predictions will be given as the probability that the corresponding blight ticket will be paid on time.\n",
    "\n",
    "The evaluation metric for this assignment is the Area Under the ROC Curve (AUC). \n",
    "\n",
    "Your grade will be based on the AUC score computed for your classifier. A model which with an AUROC of 0.7 passes this assignment, over 0.75 will recieve full points.\n",
    "___\n",
    "\n",
    "For this assignment, create a function that trains a model to predict blight ticket compliance in Detroit using `train.csv`. Using this model, return a series of length 61001 with the data being the probability that each corresponding ticket from `test.csv` will be paid, and the index being the ticket_id.\n",
    "\n",
    "Example:\n",
    "\n",
    "    ticket_id\n",
    "       284932    0.531842\n",
    "       285362    0.401958\n",
    "       285361    0.105928\n",
    "       285338    0.018572\n",
    "                 ...\n",
    "       376499    0.208567\n",
    "       376500    0.818759\n",
    "       369851    0.018528\n",
    "       Name: compliance, dtype: float32"
   ]
  },
  {
   "cell_type": "markdown",
   "metadata": {},
   "source": [
    "#Load Libraries"
   ]
  },
  {
   "cell_type": "code",
   "execution_count": 1,
   "metadata": {
    "collapsed": true
   },
   "outputs": [],
   "source": [
    "# Libraries\n",
    "%matplotlib notebook\n",
    "import numpy as np\n",
    "import pandas as pd\n",
    "import seaborn as sn\n",
    "import matplotlib.pyplot as plt\n",
    "from time import time\n",
    "from datetime import datetime\n",
    "from matplotlib import cm\n",
    "from pandas.plotting import scatter_matrix\n",
    "from sklearn.preprocessing import StandardScaler\n",
    "from sklearn.preprocessing import MinMaxScaler\n",
    "from sklearn import model_selection, metrics\n",
    "from sklearn.model_selection import train_test_split\n",
    "from sklearn.model_selection import KFold\n",
    "from sklearn.model_selection import cross_val_score\n",
    "from sklearn.model_selection import GridSearchCV\n",
    "from sklearn.pipeline import Pipeline\n",
    "from sklearn.pipeline import FeatureUnion\n",
    "from sklearn.naive_bayes import GaussianNB\n",
    "from sklearn.linear_model import LogisticRegression\n",
    "from sklearn.linear_model import Lasso\n",
    "from sklearn.linear_model import RidgeClassifierCV\n",
    "from sklearn.svm import SVC\n",
    "from sklearn.decomposition import PCA\n",
    "from sklearn.metrics import roc_auc_score\n",
    "from sklearn.metrics import confusion_matrix\n",
    "from sklearn.metrics import f1_score\n",
    "from sklearn.metrics import recall_score\n",
    "from sklearn.metrics import precision_score\n",
    "from sklearn.metrics import make_scorer\n",
    "from sklearn.metrics import roc_curve\n",
    "from sklearn.metrics import auc\n",
    "from sklearn.feature_selection import SelectKBest\n",
    "from sklearn.externals import joblib\n",
    "from sklearn import tree\n",
    "from sklearn import svm\n",
    "from sklearn.ensemble import RandomForestClassifier\n",
    "from sklearn.ensemble import GradientBoostingClassifier\n",
    "from sklearn.neural_network import MLPClassifier\n",
    "from adspy_shared_utilities import plot_class_regions_for_classifier_subplot"
   ]
  },
  {
   "cell_type": "markdown",
   "metadata": {},
   "source": [
    "# Preprocess the Data"
   ]
  },
  {
   "cell_type": "code",
   "execution_count": null,
   "metadata": {
    "collapsed": true
   },
   "outputs": [],
   "source": [
    "# Obtain the data\n",
    "train = pd.read_csv('train.csv', encoding = \"Latin-1\", low_memory = False)\n",
    "addresses = pd.read_csv('addresses.csv')\n",
    "latlong = pd.read_csv('latlons.csv')\n",
    "\n",
    "# Merge in lat long data\n",
    "from sklearn import preprocessing \n",
    "from sklearn.preprocessing import LabelEncoder\n",
    "\n",
    "train = pd.merge(train, addresses, on = ['ticket_id'])\n",
    "train = pd.merge(train, latlong, on = ['address'])\n",
    "\n",
    "# Remove observations where offender ruled not responsible\n",
    "train = train.fillna(0)\n",
    "\n",
    "# Add the number of days between hearing data and ticket date\n",
    "train['payment_days'] = (pd.to_datetime(train['hearing_date']) - pd.to_datetime(train['ticket_issued_date'])).dt.days\n",
    "\n",
    "# Select variables of interest\n",
    "features = ['agency_name', 'inspector_name',  'violation_code',\n",
    "            'judgment_amount','payment_days', 'lat', 'lon', 'compliance']\n",
    "train = train[features]\n",
    "train = train.dropna()\n",
    "\n",
    "# Convert categorical variables to numeric\n",
    "le = preprocessing.LabelEncoder()\n",
    "categorical = list(train.select_dtypes(include=['object']).columns.values)\n",
    "for cat in categorical:\n",
    "    train[cat] = le.fit_transform(train[cat].astype(str))\n",
    "\n",
    "\n",
    "X = train.drop(\"compliance\", axis=1)\n",
    "y = train['compliance']\n",
    "\n",
    "# Split the training data further into train and test data \n",
    "X_train, X_test, y_train, y_test = train_test_split(X, y, random_state=0)"
   ]
  },
  {
   "cell_type": "markdown",
   "metadata": {},
   "source": [
    "# Model Survey\n",
    "## Logistic Regression, Decision Trees, Naive Bayes, Random Forests, and Gradient Boost"
   ]
  },
  {
   "cell_type": "code",
   "execution_count": 6,
   "metadata": {},
   "outputs": [
    {
     "name": "stdout",
     "output_type": "stream",
     "text": [
      "==================================================\n",
      "Section 1: Create transformers and Default, Logistic Regression, Naive Bayes, Decision Tree and Random Forest Estimators\n",
      "--------------------------------------------------\n",
      "Logistic Regression pipeline AUC score: 0.532\n",
      "Naive Bayes pipeline AUC score: 0.533\n",
      "Support Vector Machine pipeline AUC score: 0.502\n",
      "Decision Tree pipeline AUC score: 0.573\n",
      "Random Forests pipeline AUC score: 0.626\n",
      "Gradient Boosting pipeline AUC score: 0.583\n",
      "Classifier with AUC: Random Forests\n",
      "Saved Random Forests pipeline to file\n"
     ]
    }
   ],
   "source": [
    "print(50*\"=\")\n",
    "print(\"Section 1: Survey of Candidate Models\n",
    "print(50*'-')\n",
    "\n",
    "# Construct some pipelines\n",
    "pipe_lr = Pipeline([('scl', StandardScaler()),\n",
    "            ('pca', PCA(n_components=2)),\n",
    "            ('clf', LogisticRegression(random_state=5))])\n",
    "\n",
    "pipe_nb = Pipeline([('scl', StandardScaler()),\n",
    "            ('pca', PCA(n_components=2)),\n",
    "            ('clf', GaussianNB())])\n",
    "\n",
    "pipe_svm1 = Pipeline([('scl', StandardScaler()),\n",
    "            ('pca', PCA(n_components=2)),\n",
    "            ('clf', SVC(random_state=5, C=.00001, probability=True))])\n",
    "            \n",
    "pipe_dt = Pipeline([('scl', StandardScaler()),\n",
    "            ('pca', PCA(n_components=2)),\n",
    "            ('clf', tree.DecisionTreeClassifier(random_state=5))])\n",
    "\n",
    "pipe_rf = Pipeline([('scl', StandardScaler()),\n",
    "            ('pca', PCA(n_components=2)),\n",
    "            ('clf', RandomForestClassifier(random_state=5))])\n",
    "\n",
    "pipe_gb = Pipeline([('scl', StandardScaler()),\n",
    "            ('pca', PCA(n_components=2)),\n",
    "            ('clf', GradientBoostingClassifier(random_state=5))])\n",
    "\n",
    "\n",
    "# List of pipelines for ease of iteration\n",
    "pipelines = [pipe_lr, pipe_nb, pipe_svm1, pipe_svm2, pipe_svm3, pipe_dt, pipe_rf, pipe_gb]\n",
    "\n",
    "# Dictionary of pipelines and classifier types for ease of reference\n",
    "pipe_dict = {0: 'Logistic Regression',  1: 'Naive Bayes', 2: 'Support Vector Machine (1)',\n",
    "             3: 'Support Vector Machine (2)', 4: 'Support Vector Machine (3)',\n",
    "             5: 'Decision Tree', 6: 'Random Forests', 7: 'Gradient Boosting'}\n",
    "\n",
    "# Fit the pipelines\n",
    "for pipe in pipelines:\n",
    "    pipe.fit(X_train, y_train)\n",
    "    \n",
    "# Compare AUC scoes\n",
    "for idx, val in enumerate(pipelines):\n",
    "    print ('%s pipeline AUC score: %.3f' % (pipe_dict[idx], roc_auc_score(y_test, val.predict_proba(X_test)[:,1])))\n",
    "\n",
    "# Identify the most accurate model on test data\n",
    "best_acc = 0.0\n",
    "best_clf = 0\n",
    "best_pipe = ''\n",
    "for idx, val in enumerate(pipelines):\n",
    "    score = roc_auc_score(y_test, val.predict_proba(X_test)[:,1])\n",
    "    if score > best_acc:\n",
    "        best_acc = score\n",
    "        best_pipe = val\n",
    "        best_clf = idx\n",
    "print('Classifier with AUC: %s' % pipe_dict[best_clf])\n",
    "\n",
    "# Save pipeline to file\n",
    "joblib.dump(best_pipe, 'best_pipeline.pkl', compress=1)\n",
    "print('Saved %s pipeline to file' % pipe_dict[best_clf])"
   ]
  },
  {
   "cell_type": "markdown",
   "metadata": {
    "collapsed": true
   },
   "source": [
    "# Random Forests\n",
    "## Parameter Tuning"
   ]
  },
  {
   "cell_type": "code",
   "execution_count": 28,
   "metadata": {},
   "outputs": [
    {
     "name": "stdout",
     "output_type": "stream",
     "text": [
      "==================================================\n",
      "Section 2: Evaluating Random Forests\n",
      "--------------------------------------------------\n",
      "Model with rank: 1\n",
      "Mean AUC score: 0.805 (std: 0.001)\n",
      "Parameters: {'bootstrap': False, 'criterion': 'entropy', 'max_depth': None, 'max_features': 2, 'min_samples_leaf': 10, 'min_samples_split': 3}\n",
      "\n",
      "Model with rank: 2\n",
      "Mean AUC score: 0.804 (std: 0.002)\n",
      "Parameters: {'bootstrap': False, 'criterion': 'gini', 'max_depth': None, 'max_features': 2, 'min_samples_leaf': 10, 'min_samples_split': 3}\n",
      "\n",
      "Model with rank: 3\n",
      "Mean AUC score: 0.803 (std: 0.002)\n",
      "Parameters: {'bootstrap': False, 'criterion': 'gini', 'max_depth': None, 'max_features': 2, 'min_samples_leaf': 10, 'min_samples_split': 10}\n",
      "\n",
      "Random Forests pipeline AUC score: 0.827\n"
     ]
    }
   ],
   "source": [
    "print(50*\"=\")\n",
    "print(\"Section 2: Evaluating Random Forests\")\n",
    "print(50*'-')\n",
    "\n",
    "# Utility function to report best scores\n",
    "def report(results, n_top=3):\n",
    "    for i in range(1, n_top + 1):\n",
    "        candidates = np.flatnonzero(results['rank_test_score'] == i)\n",
    "        for candidate in candidates:\n",
    "            print(\"Model with rank: {0}\".format(i))\n",
    "            print(\"Mean AUC score: {0:.3f} (std: {1:.3f})\".format(\n",
    "                  results['mean_test_score'][candidate],\n",
    "                  results['std_test_score'][candidate]))\n",
    "            print(\"Parameters: {0}\".format(results['params'][candidate]))\n",
    "            print(\"\")\n",
    "\n",
    "# Build classifier\n",
    "clf = RandomForestClassifier(n_estimators=20)\n",
    "\n",
    "# Set parameter grid\n",
    "param_grid = {\"max_depth\": [3, None],\n",
    "              \"max_features\": [2, 4, 8],\n",
    "              \"min_samples_split\": [2, 3, 10],\n",
    "              \"min_samples_leaf\": [1, 3, 10],\n",
    "              \"bootstrap\": [True, False],\n",
    "              \"criterion\": [\"gini\", \"entropy\"]}\n",
    "\n",
    "# run grid search\n",
    "model_rf = GridSearchCV(clf, param_grid=param_grid, n_jobs=2, scoring=\"roc_auc\")\n",
    "start = time()\n",
    "model_rf.fit(X_train, y_train)\n",
    "report(model_rf.cv_results_)\n",
    "print ('%s pipeline AUC score: %.3f' % (\"Random Forests\", \n",
    "                                        roc_auc_score(y_test, model_rf.predict_proba(X_test)[:,1])))"
   ]
  },
  {
   "cell_type": "markdown",
   "metadata": {},
   "source": [
    "# Gradient Boosted Decision Trees (GBM) Parameter Tuning"
   ]
  },
  {
   "cell_type": "code",
   "execution_count": 30,
   "metadata": {
    "collapsed": true
   },
   "outputs": [],
   "source": [
    "def modelfit(alg, X_train, y_train, X_test, y_test, features, performCV=True, printFeatureImportance=False, cv_folds=5):\n",
    "    #Fit the algorithm on the data\n",
    "    alg.fit(X_train, y_train)\n",
    "        \n",
    "    #Predict training set:\n",
    "    dtrain_predictions = alg.predict(X_train)\n",
    "    dtrain_predprob = alg.predict_proba(X_train)[:,1]\n",
    "    dtest_predprob = alg.predict_proba(X_test)[:,1]\n",
    "    \n",
    "    #Perform cross-validation:\n",
    "    if performCV:\n",
    "        cv_score = cross_val_score(alg, X_train, y_train, cv=cv_folds, scoring='roc_auc')\n",
    "    \n",
    "    #Print model report:\n",
    "    print (\"\\nModel Report\")\n",
    "    print (\"Accuracy : %.4g\" % metrics.accuracy_score(y_train.values, dtrain_predictions))\n",
    "    print (\"AUC Score (Train): %f\" % metrics.roc_auc_score(y_train, dtrain_predprob))\n",
    "    print (\"AUC Score (Test): %f\" % metrics.roc_auc_score(y_test, dtest_predprob))\n",
    "    \n",
    "    \n",
    "    if performCV:\n",
    "        print (\"CV Score : Mean - %.7g | Std - %.7g | Min - %.7g | Max - %.7g\" % (np.mean(cv_score),np.std(cv_score),np.min(cv_score),np.max(cv_score)))\n",
    "        \n",
    "    #Print Feature Importance:\n",
    "    if printFeatureImportance:\n",
    "        feat_imp = pd.Series(alg.feature_importances_, features).sort_values(ascending=False)\n",
    "        feat_imp.plot(kind='bar', title='Feature Importances')\n",
    "        plt.ylabel('Feature Importance Score')"
   ]
  },
  {
   "cell_type": "markdown",
   "metadata": {},
   "source": [
    "## Fix learning rate and number of estimators for tuning tree-based parameters"
   ]
  },
  {
   "cell_type": "code",
   "execution_count": 32,
   "metadata": {},
   "outputs": [
    {
     "name": "stdout",
     "output_type": "stream",
     "text": [
      "==================================================\n",
      "Section 3: Parameter Tuning for Gradient-Boosted Decision Trees\n",
      "--------------------------------------------------\n",
      "        3.1: Learning Rate & Estimators\n",
      "--------------------------------------------------\n"
     ]
    },
    {
     "data": {
      "text/plain": [
       "({'n_estimators': 40}, 0.85829768846705079)"
      ]
     },
     "execution_count": 32,
     "metadata": {},
     "output_type": "execute_result"
    }
   ],
   "source": [
    "print(50*\"=\")\n",
    "print(\"Section 3: Parameter Tuning for Gradient-Boosted Decision Trees\")\n",
    "print(50*'-')\n",
    "print(\"        3.1: Learning Rate & Estimators\")\n",
    "print(50*'-')\n",
    "\n",
    "param_test1 = {'n_estimators':range(20,101,10)}\n",
    "gbm_gs1 = GridSearchCV(estimator = GradientBoostingClassifier(learning_rate=0.4, \n",
    "                                                             min_samples_split=500,\n",
    "                                                             min_samples_leaf=50,\n",
    "                                                             max_depth=8,\n",
    "                                                             max_features='sqrt',\n",
    "                                                             subsample=0.8,\n",
    "                                                             random_state=5), \n",
    "                      param_grid = param_test1, scoring='roc_auc',n_jobs=4,iid=False, cv=5)\n",
    "gbm_gs1.fit(X_train, y_train)\n",
    "gbm_gs1.best_params_, gbm_gs1.best_score_"
   ]
  },
  {
   "cell_type": "markdown",
   "metadata": {},
   "source": [
    "## Tree Based Parameters \n",
    "### Max Depth and Minimum Samples per Split"
   ]
  },
  {
   "cell_type": "code",
   "execution_count": 33,
   "metadata": {},
   "outputs": [
    {
     "name": "stdout",
     "output_type": "stream",
     "text": [
      "--------------------------------------------------\n",
      "Section 3.2: Parameter Tuning for Gradient-Boosted Decision Trees: Max Depth & Min Samples per Split\n",
      "--------------------------------------------------\n"
     ]
    },
    {
     "data": {
      "text/plain": [
       "({'max_depth': 7, 'min_samples_split': 1000}, 0.86091585176956864)"
      ]
     },
     "execution_count": 33,
     "metadata": {},
     "output_type": "execute_result"
    }
   ],
   "source": [
    "print(50*\"-\")\n",
    "print(\"Section 3.2: Parameter Tuning for Gradient-Boosted Decision Trees: Max Depth & Min Samples per Split\")\n",
    "print(50*'-')\n",
    "\n",
    "param_test2 = {'max_depth':range(5,16,2), 'min_samples_split':range(800,2001,200)}\n",
    "gbm_gs2 = GridSearchCV(estimator = GradientBoostingClassifier(learning_rate=0.4, \n",
    "                                                              n_estimators=40, \n",
    "                                                              max_features='sqrt', \n",
    "                                                              subsample=0.8, \n",
    "                                                              random_state=5), \n",
    "                       param_grid = param_test2, scoring='roc_auc',n_jobs=4,iid=False, cv=5)\n",
    "gbm_gs2.fit(X_train, y_train)\n",
    "gbm_gs2.best_params_, gbm_gs2.best_score_"
   ]
  },
  {
   "cell_type": "markdown",
   "metadata": {},
   "source": [
    "### Minimum Samples per Split and Minimum Samples per Leaf"
   ]
  },
  {
   "cell_type": "code",
   "execution_count": 34,
   "metadata": {},
   "outputs": [
    {
     "name": "stdout",
     "output_type": "stream",
     "text": [
      "--------------------------------------------------\n",
      "Section 3.3: Parameter Tuning for Gradient-Boosted Decision Trees: Min. Samples per Split and Leaf\n",
      "--------------------------------------------------\n"
     ]
    },
    {
     "data": {
      "text/plain": [
       "({'min_samples_leaf': 30, 'min_samples_split': 1000}, 0.86457797983743812)"
      ]
     },
     "execution_count": 34,
     "metadata": {},
     "output_type": "execute_result"
    }
   ],
   "source": [
    "print(50*\"-\")\n",
    "print(\"Section 3.3: Parameter Tuning for Gradient-Boosted Decision Trees: Min. Samples per Split and Leaf\")\n",
    "print(50*'-')\n",
    "\n",
    "param_test3 = {'min_samples_split':range(1000,2100,200), 'min_samples_leaf':range(30,71,10)}\n",
    "gbm_gs3 = GridSearchCV(estimator = GradientBoostingClassifier(learning_rate=0.3, \n",
    "                                                              n_estimators=70, \n",
    "                                                              max_features='sqrt', \n",
    "                                                              max_depth=7,\n",
    "                                                              subsample=0.8, \n",
    "                                                              random_state=5), \n",
    "                       param_grid = param_test3, scoring='roc_auc',n_jobs=4,iid=False, cv=5)\n",
    "gbm_gs3.fit(X_train, y_train)\n",
    "gbm_gs3.best_params_, gbm_gs3.best_score_"
   ]
  },
  {
   "cell_type": "code",
   "execution_count": 33,
   "metadata": {},
   "outputs": [
    {
     "name": "stdout",
     "output_type": "stream",
     "text": [
      "--------------------------------------------------\n",
      "Section 3.4: Parameter Tuning for Gradient-Boosted Decision Trees: Max Features\n",
      "--------------------------------------------------\n",
      "8\n"
     ]
    },
    {
     "data": {
      "text/plain": [
       "({'max_features': 2}, 0.80371186218488722)"
      ]
     },
     "execution_count": 33,
     "metadata": {},
     "output_type": "execute_result"
    }
   ],
   "source": [
    "print(50*\"-\")\n",
    "print(\"Section 3.4: Parameter Tuning for Gradient-Boosted Decision Trees: Max Features\")\n",
    "print(50*'-')\n",
    "\n",
    "features = X_train.shape[1]\n",
    "param_test4 = {'max_features':range(2,features,2)}\n",
    "gbm_gs4 = GridSearchCV(estimator = GradientBoostingClassifier(learning_rate=0.3, \n",
    "                                                              n_estimators=70, \n",
    "                                                              max_features='sqrt', \n",
    "                                                              max_depth=15,\n",
    "                                                              min_samples_leaf=60,\n",
    "                                                              min_samples_split=1600,\n",
    "                                                              subsample=0.8, \n",
    "                                                              random_state=5), \n",
    "                       param_grid = param_test4, scoring='roc_auc',n_jobs=4,iid=False, cv=5)\n",
    "gbm_gs4.fit(X_train, y_train)\n",
    "gbm_gs4.best_params_, gbm_gs4.best_score_\n",
    "modelfit(gbm_gs4.best_estimator_, X_train, y_train, X_test, features = list(X_train.columns.values))"
   ]
  },
  {
   "cell_type": "markdown",
   "metadata": {
    "collapsed": true
   },
   "source": [
    "### Tune Learning Rate vis-a-vis Number of Estimators"
   ]
  },
  {
   "cell_type": "code",
   "execution_count": 21,
   "metadata": {},
   "outputs": [
    {
     "name": "stdout",
     "output_type": "stream",
     "text": [
      "--------------------------------------------------\n",
      "Section 3.5: Parameter Tuning for Gradient-Boosted Decision Trees: Learning Rate and Num Estimators\n",
      "--------------------------------------------------\n",
      "\n",
      "Model Report\n",
      "Accuracy : 0.9433\n",
      "AUC Score (Train): 0.889348\n",
      "AUC Score (Test): 0.812646\n",
      "CV Score : Mean - 0.8037119 | Std - 0.006508282 | Min - 0.7982864 | Max - 0.8162522\n",
      "\n",
      "Model Report\n",
      "Accuracy : 0.9438\n",
      "AUC Score (Train): 0.896345\n",
      "AUC Score (Test): 0.821762\n",
      "CV Score : Mean - 0.8082644 | Std - 0.006641414 | Min - 0.8022975 | Max - 0.8203171\n",
      "\n",
      "Model Report\n",
      "Accuracy : 0.9443\n",
      "AUC Score (Train): 0.904220\n",
      "AUC Score (Test): 0.827907\n",
      "CV Score : Mean - 0.8132952 | Std - 0.006349687 | Min - 0.8078655 | Max - 0.8252467\n",
      "\n",
      "Model Report\n",
      "Accuracy : 0.9443\n",
      "AUC Score (Train): 0.902832\n",
      "AUC Score (Test): 0.827952\n",
      "CV Score : Mean - 0.8144183 | Std - 0.006741235 | Min - 0.8077991 | Max - 0.8269517\n"
     ]
    }
   ],
   "source": [
    "print(50*\"-\")\n",
    "print(\"Section 3.5: Parameter Tuning for Gradient-Boosted Decision Trees: Learning Rate and Num Estimators\")\n",
    "print(50*'-')\n",
    "def gbmEvaluator(X_train, y_train, X_test, y_test, learning_rate, n_estimators):\n",
    "    gbm_tuned = GradientBoostingClassifier(learning_rate=learning_rate, \n",
    "                                           n_estimators=n_estimators, \n",
    "                                           max_features=2, \n",
    "                                           max_depth=15,\n",
    "                                           min_samples_leaf=60,\n",
    "                                           min_samples_split=1600,\n",
    "                                           subsample=0.8, \n",
    "                                           random_state=5)\n",
    "    gbm_tuned.fit(X_train, y_train)\n",
    "    modelfit(gbm_tuned, X_train, y_train, X_test, y_test, features = list(X_train.columns.values))\n",
    "\n",
    "learning_rates = [.3, .3/2, .3/10, .3/20]\n",
    "n_estimators = [70, 70*2, 70*10, 70*20]\n",
    "for lr, est in zip(learning_rates, n_estimators):\n",
    "    gbmEvaluator(X_train, y_train, X_test, y_test, lr, est)\n",
    "    "
   ]
  },
  {
   "cell_type": "markdown",
   "metadata": {},
   "source": [
    "# Neural Networks"
   ]
  },
  {
   "cell_type": "code",
   "execution_count": 25,
   "metadata": {},
   "outputs": [
    {
     "name": "stdout",
     "output_type": "stream",
     "text": [
      "==================================================\n",
      "Section 4: Parameter Tuning for Neural Network\n",
      "--------------------------------------------------\n",
      "\n",
      "Model Report\n",
      "Accuracy : 0.9283\n",
      "AUC Score (Train): 0.539167\n",
      "AUC Score (Test): 0.534671\n",
      "CV Score : Mean - 0.5720955 | Std - 0.04459888 | Min - 0.5130357 | Max - 0.6503562\n"
     ]
    }
   ],
   "source": [
    "print(50*\"=\")\n",
    "print(\"Section 4: Parameter Tuning for Neural Network\")\n",
    "print(50*'-')\n",
    "\n",
    "# Set parameter grid\n",
    "param_grid = {\"hidden_layer_sizes\": [10, 10],\n",
    "              \"activation\": ['logistic', 'tanh', 'relu'],\n",
    "              \"solver\": ['lbfgs', 'sgd', 'adam'],\n",
    "              \"alpha\": [0.01, 0.1, 1.0, 5.0],\n",
    "              'max_iter': [500,1000,1500]}\n",
    "\n",
    "nn_gs = GridSearchCV(estimator = MLPClassifier(random_state=5), \n",
    "                       param_grid = param_grid, scoring='roc_auc',n_jobs=4,iid=False, cv=5)\n",
    "nn_gs.fit(X_train, y_train)\n",
    "nn_gs.best_params_, nn_gs.best_score_\n",
    "modelfit(nn_gs.best_estimator_, X_train, y_train, X_test, y_test, features = list(X_train.columns.values))"
   ]
  },
  {
   "cell_type": "code",
   "execution_count": null,
   "metadata": {
    "collapsed": true
   },
   "outputs": [],
   "source": []
  }
 ],
 "metadata": {
  "coursera": {
   "course_slug": "python-machine-learning",
   "graded_item_id": "nNS8l",
   "launcher_item_id": "yWWk7",
   "part_id": "w8BSS"
  },
  "kernelspec": {
   "display_name": "Python 3",
   "language": "python",
   "name": "python3"
  },
  "language_info": {
   "codemirror_mode": {
    "name": "ipython",
    "version": 3
   },
   "file_extension": ".py",
   "mimetype": "text/x-python",
   "name": "python",
   "nbconvert_exporter": "python",
   "pygments_lexer": "ipython3",
   "version": "3.6.1"
  }
 },
 "nbformat": 4,
 "nbformat_minor": 2
}
