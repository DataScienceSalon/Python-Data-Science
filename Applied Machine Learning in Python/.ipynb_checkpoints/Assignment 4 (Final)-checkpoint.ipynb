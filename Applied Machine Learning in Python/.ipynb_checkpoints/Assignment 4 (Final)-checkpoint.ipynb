{
 "cells": [
  {
   "cell_type": "markdown",
   "metadata": {},
   "source": [
    "---\n",
    "\n",
    "_You are currently looking at **version 1.0** of this notebook. To download notebooks and datafiles, as well as get help on Jupyter notebooks in the Coursera platform, visit the [Jupyter Notebook FAQ](https://www.coursera.org/learn/python-machine-learning/resources/bANLa) course resource._\n",
    "\n",
    "---"
   ]
  },
  {
   "cell_type": "markdown",
   "metadata": {},
   "source": [
    "## Assignment 4 - Understanding and Predicting Property Maintenance Fines\n",
    "\n",
    "This assignment is based on a data challenge from the Michigan Data Science Team ([MDST](http://midas.umich.edu/mdst/)). \n",
    "\n",
    "The Michigan Data Science Team ([MDST](http://midas.umich.edu/mdst/)) and the Michigan Student Symposium for Interdisciplinary Statistical Sciences ([MSSISS](https://sites.lsa.umich.edu/mssiss/)) have partnered with the City of Detroit to help solve one of the most pressing problems facing Detroit - blight. [Blight violations](http://www.detroitmi.gov/How-Do-I/Report/Blight-Complaint-FAQs) are issued by the city to individuals who allow their properties to remain in a deteriorated condition. Every year, the city of Detroit issues millions of dollars in fines to residents and every year, many of these fines remain unpaid. Enforcing unpaid blight fines is a costly and tedious process, so the city wants to know: how can we increase blight ticket compliance?\n",
    "\n",
    "The first step in answering this question is understanding when and why a resident might fail to comply with a blight ticket. This is where predictive modeling comes in. For this assignment, your task is to predict whether a given blight ticket will be paid on time.\n",
    "\n",
    "All data for this assignment has been provided to us through the [Detroit Open Data Portal](https://data.detroitmi.gov/). **Only the data already included in your Coursera directory can be used for training the model for this assignment.** Nonetheless, we encourage you to look into data from other Detroit datasets to help inform feature creation and model selection. We recommend taking a look at the following related datasets:\n",
    "\n",
    "* [Building Permits](https://data.detroitmi.gov/Property-Parcels/Building-Permits/xw2a-a7tf)\n",
    "* [Trades Permits](https://data.detroitmi.gov/Property-Parcels/Trades-Permits/635b-dsgv)\n",
    "* [Improve Detroit: Submitted Issues](https://data.detroitmi.gov/Government/Improve-Detroit-Submitted-Issues/fwz3-w3yn)\n",
    "* [DPD: Citizen Complaints](https://data.detroitmi.gov/Public-Safety/DPD-Citizen-Complaints-2016/kahe-efs3)\n",
    "* [Parcel Map](https://data.detroitmi.gov/Property-Parcels/Parcel-Map/fxkw-udwf)\n",
    "\n",
    "___\n",
    "\n",
    "We provide you with two data files for use in training and validating your models: train.csv and test.csv. Each row in these two files corresponds to a single blight ticket, and includes information about when, why, and to whom each ticket was issued. The target variable is compliance, which is True if the ticket was paid early, on time, or within one month of the hearing data, False if the ticket was paid after the hearing date or not at all, and Null if the violator was found not responsible. Compliance, as well as a handful of other variables that will not be available at test-time, are only included in train.csv.\n",
    "\n",
    "Note: All tickets where the violators were found not responsible are not considered during evaluation. They are included in the training set as an additional source of data for visualization, and to enable unsupervised and semi-supervised approaches. However, they are not included in the test set.\n",
    "\n",
    "<br>\n",
    "\n",
    "**File descriptions** (Use only this data for training your model!)\n",
    "\n",
    "    train.csv - the training set (all tickets issued 2004-2011)\n",
    "    test.csv - the test set (all tickets issued 2012-2016)\n",
    "    addresses.csv & latlons.csv - mapping from ticket id to addresses, and from addresses to lat/lon coordinates. \n",
    "     Note: misspelled addresses may be incorrectly geolocated.\n",
    "\n",
    "<br>\n",
    "\n",
    "**Data fields**\n",
    "\n",
    "train.csv & test.csv\n",
    "\n",
    "    ticket_id - unique identifier for tickets\n",
    "    agency_name - Agency that issued the ticket\n",
    "    inspector_name - Name of inspector that issued the ticket\n",
    "    violator_name - Name of the person/organization that the ticket was issued to\n",
    "    violation_street_number, violation_street_name, violation_zip_code - Address where the violation occurred\n",
    "    mailing_address_str_number, mailing_address_str_name, city, state, zip_code, non_us_str_code, country - Mailing address of the violator\n",
    "    ticket_issued_date - Date and time the ticket was issued\n",
    "    hearing_date - Date and time the violator's hearing was scheduled\n",
    "    violation_code, violation_description - Type of violation\n",
    "    disposition - Judgment and judgement type\n",
    "    fine_amount - Violation fine amount, excluding fees\n",
    "    admin_fee - $20 fee assigned to responsible judgments\n",
    "state_fee - $10 fee assigned to responsible judgments\n",
    "    late_fee - 10% fee assigned to responsible judgments\n",
    "    discount_amount - discount applied, if any\n",
    "    clean_up_cost - DPW clean-up or graffiti removal cost\n",
    "    judgment_amount - Sum of all fines and fees\n",
    "    grafitti_status - Flag for graffiti violations\n",
    "    \n",
    "train.csv only\n",
    "\n",
    "    payment_amount - Amount paid, if any\n",
    "    payment_date - Date payment was made, if it was received\n",
    "    payment_status - Current payment status as of Feb 1 2017\n",
    "    balance_due - Fines and fees still owed\n",
    "    collection_status - Flag for payments in collections\n",
    "    compliance [target variable for prediction] \n",
    "     Null = Not responsible\n",
    "     0 = Responsible, non-compliant\n",
    "     1 = Responsible, compliant\n",
    "    compliance_detail - More information on why each ticket was marked compliant or non-compliant\n",
    "\n",
    "\n",
    "___\n",
    "\n",
    "## Evaluation\n",
    "\n",
    "Your predictions will be given as the probability that the corresponding blight ticket will be paid on time.\n",
    "\n",
    "The evaluation metric for this assignment is the Area Under the ROC Curve (AUC). \n",
    "\n",
    "Your grade will be based on the AUC score computed for your classifier. A model which with an AUROC of 0.7 passes this assignment, over 0.75 will recieve full points.\n",
    "___\n",
    "\n",
    "For this assignment, create a function that trains a model to predict blight ticket compliance in Detroit using `train.csv`. Using this model, return a series of length 61001 with the data being the probability that each corresponding ticket from `test.csv` will be paid, and the index being the ticket_id.\n",
    "\n",
    "Example:\n",
    "\n",
    "    ticket_id\n",
    "       284932    0.531842\n",
    "       285362    0.401958\n",
    "       285361    0.105928\n",
    "       285338    0.018572\n",
    "                 ...\n",
    "       376499    0.208567\n",
    "       376500    0.818759\n",
    "       369851    0.018528\n",
    "       Name: compliance, dtype: float32"
   ]
  },
  {
   "cell_type": "markdown",
   "metadata": {},
   "source": [
    "#Load Libraries"
   ]
  },
  {
   "cell_type": "code",
   "execution_count": 1,
   "metadata": {
    "collapsed": true
   },
   "outputs": [],
   "source": [
    "# Libraries\n",
    "%matplotlib notebook\n",
    "import numpy as np\n",
    "import pandas as pd\n",
    "from time import time\n",
    "from datetime import datetime\n",
    "from sklearn import preprocessing \n",
    "from sklearn.preprocessing import LabelEncoder\n",
    "from sklearn.preprocessing import StandardScaler\n",
    "from sklearn.preprocessing import MinMaxScaler\n",
    "from sklearn import model_selection, metrics\n",
    "from sklearn.metrics import roc_auc_score\n",
    "from sklearn.model_selection import train_test_split\n",
    "from sklearn.model_selection import KFold\n",
    "from sklearn.model_selection import cross_val_score\n",
    "from sklearn.model_selection import GridSearchCV\n",
    "from sklearn.pipeline import Pipeline\n",
    "from sklearn.pipeline import FeatureUnion\n",
    "from sklearn.naive_bayes import GaussianNB\n",
    "from sklearn.linear_model import LogisticRegression\n",
    "from sklearn.linear_model import Lasso\n",
    "from sklearn.linear_model import RidgeClassifierCV\n",
    "from sklearn.svm import SVC\n",
    "from sklearn.externals import joblib\n",
    "from sklearn import tree\n",
    "from sklearn import svm\n",
    "from sklearn.ensemble import RandomForestClassifier\n",
    "from sklearn.ensemble import GradientBoostingClassifier\n",
    "from sklearn.neural_network import MLPClassifier"
   ]
  },
  {
   "cell_type": "markdown",
   "metadata": {},
   "source": [
    "# Preprocess the Data"
   ]
  },
  {
   "cell_type": "code",
   "execution_count": 2,
   "metadata": {
    "collapsed": true
   },
   "outputs": [],
   "source": [
    "def preprocess(what, df, addresses, latlong):\n",
    "    # Merge in lat long data\n",
    "    df = pd.merge(df, addresses, how = 'left', on = ['ticket_id'])\n",
    "    df = pd.merge(df, latlong, how = 'left', on = ['address'])\n",
    "\n",
    "    # Add the number of days between hearing data and ticket date\n",
    "    df['payment_days'] = (pd.to_datetime(df['hearing_date']) - pd.to_datetime(df['ticket_issued_date'])).dt.days\n",
    "\n",
    "    # Select variables of interest\n",
    "    if what == 'train':\n",
    "        features = ['ticket_id', 'agency_name', 'inspector_name', 'violation_code',\n",
    "                    'judgment_amount', 'payment_days', 'lat', 'lon', 'compliance']\n",
    "    else:\n",
    "        features = ['ticket_id', 'agency_name', 'inspector_name', 'violation_code',\n",
    "                    'judgment_amount', 'payment_days', 'lat', 'lon']\n",
    "        \n",
    "    df = df[features].set_index('ticket_id')    \n",
    "    \n",
    "    # Replace NaNs with zeros\n",
    "    df=df.fillna(0)\n",
    "\n",
    "    # Convert categorical variables to numeric\n",
    "    le = preprocessing.LabelEncoder()\n",
    "    categorical = list(df.select_dtypes(include=['object']).columns.values)\n",
    "    for cat in categorical:\n",
    "        df[cat] = le.fit_transform(df[cat].astype(str))\n",
    "        \n",
    "    return(df)"
   ]
  },
  {
   "cell_type": "markdown",
   "metadata": {
    "collapsed": true
   },
   "source": [
    "# Gradient Boosting Classifier"
   ]
  },
  {
   "cell_type": "code",
   "execution_count": 6,
   "metadata": {
    "collapsed": true
   },
   "outputs": [],
   "source": [
    "def gbm_fit(X_train, y_train, X_test):\n",
    "    gbm_tuned = GradientBoostingClassifier(learning_rate=.3/20, \n",
    "                                           n_estimators=1400, \n",
    "                                           max_features=2, \n",
    "                                           max_depth=15,\n",
    "                                           min_samples_leaf=60,\n",
    "                                           min_samples_split=1600,\n",
    "                                           subsample=0.8, \n",
    "                                           random_state=5)\n",
    "    gbm_tuned.fit(X_train, y_train)\n",
    "    test_probs = gbm_tuned.predict_proba(X_test)\n",
    "    output = pd.Series(data = test_probs[:,1], index = X_test.index, name = 'compliance', dtype = 'float32')\n",
    "    return(output)"
   ]
  },
  {
   "cell_type": "markdown",
   "metadata": {},
   "source": [
    "# Main Processing"
   ]
  },
  {
   "cell_type": "code",
   "execution_count": 7,
   "metadata": {},
   "outputs": [
    {
     "data": {
      "text/plain": [
       "ticket_id\n",
       "284932    0.020288\n",
       "285362    0.016690\n",
       "285361    0.048411\n",
       "285338    0.080712\n",
       "285346    0.040497\n",
       "285345    0.059261\n",
       "285347    0.108079\n",
       "285342    0.286566\n",
       "285530    0.025188\n",
       "284989    0.024897\n",
       "285344    0.116977\n",
       "285343    0.062353\n",
       "285340    0.048593\n",
       "285341    0.176294\n",
       "285349    0.045175\n",
       "285348    0.070855\n",
       "284991    0.023333\n",
       "285532    0.046578\n",
       "285406    0.022983\n",
       "285001    0.016003\n",
       "285006    0.006441\n",
       "285405    0.044974\n",
       "285337    0.010553\n",
       "285496    0.143714\n",
       "285497    0.112589\n",
       "285378    0.020908\n",
       "285589    0.011796\n",
       "285585    0.036593\n",
       "285501    0.127765\n",
       "285581    0.017037\n",
       "            ...   \n",
       "376367    0.017268\n",
       "376366    0.038122\n",
       "376362    0.031673\n",
       "376363    0.058868\n",
       "376365    0.017268\n",
       "376364    0.038122\n",
       "376228    0.037128\n",
       "376265    0.111231\n",
       "376286    0.036817\n",
       "376320    0.056015\n",
       "376314    0.056299\n",
       "376327    0.125871\n",
       "376385    0.187093\n",
       "376435    0.053738\n",
       "376370    0.085461\n",
       "376434    0.061855\n",
       "376459    0.107348\n",
       "376478    0.003833\n",
       "376473    0.063909\n",
       "376484    0.016168\n",
       "376482    0.017218\n",
       "376480    0.015646\n",
       "376479    0.015646\n",
       "376481    0.015646\n",
       "376483    0.083586\n",
       "376496    0.005977\n",
       "376497    0.005977\n",
       "376499    0.047160\n",
       "376500    0.046273\n",
       "369851    0.178050\n",
       "Name: compliance, Length: 61001, dtype: float32"
      ]
     },
     "execution_count": 7,
     "metadata": {},
     "output_type": "execute_result"
    }
   ],
   "source": [
    "# Obtain data\n",
    "train = pd.read_csv('train.csv', encoding = \"Latin-1\", low_memory = False)\n",
    "test  = pd.read_csv('test.csv', encoding = \"Latin-1\", low_memory = False)\n",
    "addresses = pd.read_csv('addresses.csv')\n",
    "latlong   = pd.read_csv('latlons.csv')\n",
    "\n",
    "# Preprocess data\n",
    "train = preprocess('train', train, addresses, latlong)\n",
    "test = preprocess('test', test, addresses, latlong)\n",
    "\n",
    "# Create feature matrices and target vector\n",
    "X_train = train.drop(\"compliance\", axis = 1)\n",
    "y_train = train['compliance']\n",
    "\n",
    "# Train model and predict probabilities\n",
    "probs = gbm_fit(X_train, y_train, test)"
   ]
  },
  {
   "cell_type": "code",
   "execution_count": null,
   "metadata": {
    "collapsed": true
   },
   "outputs": [],
   "source": []
  }
 ],
 "metadata": {
  "coursera": {
   "course_slug": "python-machine-learning",
   "graded_item_id": "nNS8l",
   "launcher_item_id": "yWWk7",
   "part_id": "w8BSS"
  },
  "kernelspec": {
   "display_name": "Python 3",
   "language": "python",
   "name": "python3"
  },
  "language_info": {
   "codemirror_mode": {
    "name": "ipython",
    "version": 3
   },
   "file_extension": ".py",
   "mimetype": "text/x-python",
   "name": "python",
   "nbconvert_exporter": "python",
   "pygments_lexer": "ipython3",
   "version": "3.6.1"
  }
 },
 "nbformat": 4,
 "nbformat_minor": 2
}
