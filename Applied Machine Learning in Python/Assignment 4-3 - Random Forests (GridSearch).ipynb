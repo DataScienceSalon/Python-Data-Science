{
 "cells": [
  {
   "cell_type": "markdown",
   "metadata": {},
   "source": [
    "---\n",
    "\n",
    "_You are currently looking at **version 1.0** of this notebook. To download notebooks and datafiles, as well as get help on Jupyter notebooks in the Coursera platform, visit the [Jupyter Notebook FAQ](https://www.coursera.org/learn/python-machine-learning/resources/bANLa) course resource._\n",
    "\n",
    "---"
   ]
  },
  {
   "cell_type": "markdown",
   "metadata": {},
   "source": [
    "## Assignment 4 - Understanding and Predicting Property Maintenance Fines\n",
    "\n",
    "This assignment is based on a data challenge from the Michigan Data Science Team ([MDST](http://midas.umich.edu/mdst/)). \n",
    "\n",
    "The Michigan Data Science Team ([MDST](http://midas.umich.edu/mdst/)) and the Michigan Student Symposium for Interdisciplinary Statistical Sciences ([MSSISS](https://sites.lsa.umich.edu/mssiss/)) have partnered with the City of Detroit to help solve one of the most pressing problems facing Detroit - blight. [Blight violations](http://www.detroitmi.gov/How-Do-I/Report/Blight-Complaint-FAQs) are issued by the city to individuals who allow their properties to remain in a deteriorated condition. Every year, the city of Detroit issues millions of dollars in fines to residents and every year, many of these fines remain unpaid. Enforcing unpaid blight fines is a costly and tedious process, so the city wants to know: how can we increase blight ticket compliance?\n",
    "\n",
    "The first step in answering this question is understanding when and why a resident might fail to comply with a blight ticket. This is where predictive modeling comes in. For this assignment, your task is to predict whether a given blight ticket will be paid on time.\n",
    "\n",
    "All data for this assignment has been provided to us through the [Detroit Open Data Portal](https://data.detroitmi.gov/). **Only the data already included in your Coursera directory can be used for training the model for this assignment.** Nonetheless, we encourage you to look into data from other Detroit datasets to help inform feature creation and model selection. We recommend taking a look at the following related datasets:\n",
    "\n",
    "* [Building Permits](https://data.detroitmi.gov/Property-Parcels/Building-Permits/xw2a-a7tf)\n",
    "* [Trades Permits](https://data.detroitmi.gov/Property-Parcels/Trades-Permits/635b-dsgv)\n",
    "* [Improve Detroit: Submitted Issues](https://data.detroitmi.gov/Government/Improve-Detroit-Submitted-Issues/fwz3-w3yn)\n",
    "* [DPD: Citizen Complaints](https://data.detroitmi.gov/Public-Safety/DPD-Citizen-Complaints-2016/kahe-efs3)\n",
    "* [Parcel Map](https://data.detroitmi.gov/Property-Parcels/Parcel-Map/fxkw-udwf)\n",
    "\n",
    "___\n",
    "\n",
    "We provide you with two data files for use in training and validating your models: train.csv and test.csv. Each row in these two files corresponds to a single blight ticket, and includes information about when, why, and to whom each ticket was issued. The target variable is compliance, which is True if the ticket was paid early, on time, or within one month of the hearing data, False if the ticket was paid after the hearing date or not at all, and Null if the violator was found not responsible. Compliance, as well as a handful of other variables that will not be available at test-time, are only included in train.csv.\n",
    "\n",
    "Note: All tickets where the violators were found not responsible are not considered during evaluation. They are included in the training set as an additional source of data for visualization, and to enable unsupervised and semi-supervised approaches. However, they are not included in the test set.\n",
    "\n",
    "<br>\n",
    "\n",
    "**File descriptions** (Use only this data for training your model!)\n",
    "\n",
    "    train.csv - the training set (all tickets issued 2004-2011)\n",
    "    test.csv - the test set (all tickets issued 2012-2016)\n",
    "    addresses.csv & latlons.csv - mapping from ticket id to addresses, and from addresses to lat/lon coordinates. \n",
    "     Note: misspelled addresses may be incorrectly geolocated.\n",
    "\n",
    "<br>\n",
    "\n",
    "**Data fields**\n",
    "\n",
    "train.csv & test.csv\n",
    "\n",
    "    ticket_id - unique identifier for tickets\n",
    "    agency_name - Agency that issued the ticket\n",
    "    inspector_name - Name of inspector that issued the ticket\n",
    "    violator_name - Name of the person/organization that the ticket was issued to\n",
    "    violation_street_number, violation_street_name, violation_zip_code - Address where the violation occurred\n",
    "    mailing_address_str_number, mailing_address_str_name, city, state, zip_code, non_us_str_code, country - Mailing address of the violator\n",
    "    ticket_issued_date - Date and time the ticket was issued\n",
    "    hearing_date - Date and time the violator's hearing was scheduled\n",
    "    violation_code, violation_description - Type of violation\n",
    "    disposition - Judgment and judgement type\n",
    "    fine_amount - Violation fine amount, excluding fees\n",
    "    admin_fee - $20 fee assigned to responsible judgments\n",
    "state_fee - $10 fee assigned to responsible judgments\n",
    "    late_fee - 10% fee assigned to responsible judgments\n",
    "    discount_amount - discount applied, if any\n",
    "    clean_up_cost - DPW clean-up or graffiti removal cost\n",
    "    judgment_amount - Sum of all fines and fees\n",
    "    grafitti_status - Flag for graffiti violations\n",
    "    \n",
    "train.csv only\n",
    "\n",
    "    payment_amount - Amount paid, if any\n",
    "    payment_date - Date payment was made, if it was received\n",
    "    payment_status - Current payment status as of Feb 1 2017\n",
    "    balance_due - Fines and fees still owed\n",
    "    collection_status - Flag for payments in collections\n",
    "    compliance [target variable for prediction] \n",
    "     Null = Not responsible\n",
    "     0 = Responsible, non-compliant\n",
    "     1 = Responsible, compliant\n",
    "    compliance_detail - More information on why each ticket was marked compliant or non-compliant\n",
    "\n",
    "\n",
    "___\n",
    "\n",
    "## Evaluation\n",
    "\n",
    "Your predictions will be given as the probability that the corresponding blight ticket will be paid on time.\n",
    "\n",
    "The evaluation metric for this assignment is the Area Under the ROC Curve (AUC). \n",
    "\n",
    "Your grade will be based on the AUC score computed for your classifier. A model which with an AUROC of 0.7 passes this assignment, over 0.75 will recieve full points.\n",
    "___\n",
    "\n",
    "For this assignment, create a function that trains a model to predict blight ticket compliance in Detroit using `train.csv`. Using this model, return a series of length 61001 with the data being the probability that each corresponding ticket from `test.csv` will be paid, and the index being the ticket_id.\n",
    "\n",
    "Example:\n",
    "\n",
    "    ticket_id\n",
    "       284932    0.531842\n",
    "       285362    0.401958\n",
    "       285361    0.105928\n",
    "       285338    0.018572\n",
    "                 ...\n",
    "       376499    0.208567\n",
    "       376500    0.818759\n",
    "       369851    0.018528\n",
    "       Name: compliance, dtype: float32"
   ]
  },
  {
   "cell_type": "markdown",
   "metadata": {},
   "source": [
    "#Load Libraries"
   ]
  },
  {
   "cell_type": "code",
   "execution_count": 11,
   "metadata": {
    "collapsed": true
   },
   "outputs": [],
   "source": [
    "# Libraries\n",
    "%matplotlib notebook\n",
    "import numpy as np\n",
    "import pandas as pd\n",
    "import seaborn as sn\n",
    "import matplotlib.pyplot as plt\n",
    "from time import time\n",
    "from datetime import datetime\n",
    "from matplotlib import cm\n",
    "from pandas.plotting import scatter_matrix\n",
    "from sklearn.preprocessing import StandardScaler\n",
    "from sklearn.preprocessing import MinMaxScaler\n",
    "from sklearn import model_selection, metrics\n",
    "from sklearn.model_selection import train_test_split\n",
    "from sklearn.model_selection import KFold\n",
    "from sklearn.model_selection import cross_val_score\n",
    "from sklearn.model_selection import GridSearchCV\n",
    "from sklearn.pipeline import Pipeline\n",
    "from sklearn.pipeline import FeatureUnion\n",
    "from sklearn.naive_bayes import GaussianNB\n",
    "from sklearn.linear_model import LogisticRegression\n",
    "from sklearn.linear_model import Lasso\n",
    "from sklearn.linear_model import RidgeClassifierCV\n",
    "from sklearn.svm import SVC\n",
    "from sklearn.decomposition import PCA\n",
    "from sklearn.metrics import roc_auc_score\n",
    "from sklearn.metrics import confusion_matrix\n",
    "from sklearn.metrics import f1_score\n",
    "from sklearn.metrics import recall_score\n",
    "from sklearn.metrics import precision_score\n",
    "from sklearn.metrics import make_scorer\n",
    "from sklearn.metrics import roc_curve\n",
    "from sklearn.metrics import auc\n",
    "from sklearn.feature_selection import SelectKBest\n",
    "from sklearn.externals import joblib\n",
    "from sklearn import tree\n",
    "from sklearn import svm\n",
    "from sklearn.ensemble import RandomForestClassifier\n",
    "from sklearn.ensemble import GradientBoostingClassifier\n",
    "from sklearn.neural_network import MLPClassifier\n",
    "from adspy_shared_utilities import plot_class_regions_for_classifier_subplot"
   ]
  },
  {
   "cell_type": "markdown",
   "metadata": {},
   "source": [
    "# Preprocess the Data"
   ]
  },
  {
   "cell_type": "code",
   "execution_count": 12,
   "metadata": {},
   "outputs": [
    {
     "name": "stdout",
     "output_type": "stream",
     "text": [
      "                                       address        lat        lon\n",
      "0       4300 rosa parks blvd, Detroit MI 48208  42.346169 -83.079962\n",
      "1                     14512 sussex, Detroit MI  42.394657 -83.194265\n",
      "2                     3456 garland, Detroit MI  42.373779 -82.986228\n",
      "3                     5787 wayburn, Detroit MI  42.403342 -82.957805\n",
      "4                   5766 haverhill, Detroit MI  42.407255 -82.946295\n",
      "5                  11751 englewood, Detroit MI  42.243928 -83.204712\n",
      "6                      6442 heyden, Detroit MI  42.337779 -83.237171\n",
      "7            15703 kentfield, Detroit MI 48223  42.404354 -83.240920\n",
      "8                    3818 clements, Detroit MI  42.389808 -83.133463\n",
      "9               431 congress, Detroit MI 48226  42.332344 -83.041562\n",
      "10                   18624 concord, Detroit MI  42.430603 -83.032262\n",
      "11                    11933 visger, Detroit MI  42.265129 -83.155067\n",
      "12                  5603 mcnichols, Detroit MI  42.419211 -83.046049\n",
      "13                    20243 pelkey, Detroit MI  42.446465 -82.987033\n",
      "14                     13583 manor, Detroit MI  42.387036 -83.167809\n",
      "15                    14432 chapel, Detroit MI  42.392659 -83.252454\n",
      "16                    12141 dexter, Detroit MI  42.382073 -83.126050\n",
      "17                    3325 puritan, Detroit MI  42.409781 -83.134216\n",
      "18                 12763 kilbourne, Detroit MI  42.413618 -82.982053\n",
      "19                  7619 ellsworth, Detroit MI  42.401660 -83.147069\n",
      "20                     14953 faust, Detroit MI  42.398249 -83.223068\n",
      "21                   9046 american, Detroit MI  42.361461 -83.143601\n",
      "22              18687 albion, Detroit MI 48234  42.432074 -83.006093\n",
      "23             18401 justine, Detroit MI 48234  42.427908 -83.058692\n",
      "24                  15468 plymouth, Detroit MI  42.372566 -83.197334\n",
      "25                   11774 chelsea, Detroit MI  42.404630 -82.989991\n",
      "26                    2600 honorah, Detroit MI  42.316361 -83.124942\n",
      "27                      3637 kirby, Detroit MI  42.373221 -83.031655\n",
      "28                15366 cherrylawn, Detroit MI  42.403781 -83.154021\n",
      "29                     16236 coyle, Detroit MI  42.410960 -83.193797\n",
      "...                                        ...        ...        ...\n",
      "121739            19925 southfield, Detroit MI  42.437892 -83.220175\n",
      "121740             19681 gallagher, Detroit MI  42.439131 -83.070548\n",
      "121741                 8930 mcgraw, Detroit MI  42.331074 -83.152448\n",
      "121742                14211 patton, Detroit MI  42.390133 -83.243512\n",
      "121743               2272 glynn ct, Detroit MI  42.380592 -83.108139\n",
      "121744             17517 pinehurst, Detroit MI  42.420723 -83.167281\n",
      "121745           19351 hasse, Detroit MI 48234  42.436594 -83.057103\n",
      "121746                14350 auburn, Detroit MI  42.391851 -83.234222\n",
      "121747                15811 warren, Detroit MI  42.341729 -83.262245\n",
      "121748           5505 michigan ave, Detroit MI  42.331178 -83.110659\n",
      "121749               3928 townsend, Detroit MI  42.368425 -83.011160\n",
      "121750              16035 plymouth, Detroit MI  42.372203 -83.202958\n",
      "121751              11106 kennebec, Detroit MI  42.417027 -83.008487\n",
      "121752              1214 ferdinand, Detroit MI  42.314140 -83.096494\n",
      "121753                  7496 wykes, Detroit MI  42.348591 -83.141875\n",
      "121754                15886 lauder, Detroit MI  42.408460 -83.191203\n",
      "121755              11386 memorial, Detroit MI  42.371247 -83.211527\n",
      "121756             19215 greenlawn, Detroit MI  42.433067 -83.152161\n",
      "121757       13066 kilbourne, Detroit MI 48213  42.414036 -82.978944\n",
      "121758              5135 ridgewood, Detroit MI  42.363666 -83.136679\n",
      "121759               2100 burnside, Detroit MI  42.405482 -83.070378\n",
      "121760                6110 casmere, Detroit MI  42.408337 -83.039991\n",
      "121761     16505 littlefield, Detroit MI 48235  42.411968 -83.176543\n",
      "121762            12660 riad, Detroit MI 48224  42.430632 -82.952838\n",
      "121763              18213 kentucky, Detroit MI  42.424460 -83.159836\n",
      "121764              14267 sorrento, Detroit MI  42.392339 -83.172412\n",
      "121765                9359 vaughan, Detroit MI  42.363781 -83.237494\n",
      "121766              5911 courville, Detroit MI  42.409321 -82.943282\n",
      "121767               14545 wyoming, Detroit MI  42.395836 -83.159670\n",
      "121768             9269 grandville, Detroit MI  42.362833 -83.230175\n",
      "\n",
      "[121769 rows x 3 columns]\n"
     ]
    }
   ],
   "source": [
    "# Obtain the data\n",
    "train = pd.read_csv('train.csv', encoding = \"Latin-1\", low_memory = False)\n",
    "addresses = pd.read_csv('addresses.csv')\n",
    "latlong = pd.read_csv('latlons.csv')\n",
    "print(latlong)\n",
    "\n",
    "# Merge in lat long data\n",
    "from sklearn import preprocessing \n",
    "from sklearn.preprocessing import LabelEncoder\n",
    "\n",
    "train = pd.merge(train, addresses, on = ['ticket_id'])\n",
    "train = pd.merge(train, latlong, on = ['address'])\n",
    "\n",
    "# Remove observations where offender ruled not responsible\n",
    "train = train.fillna(0)\n",
    "\n",
    "# Add the number of days between hearing data and ticket date\n",
    "train['payment_days'] = (pd.to_datetime(train['hearing_date']) - pd.to_datetime(train['ticket_issued_date'])).dt.days\n",
    "train['amt_per_day'] = train['judgment_amount'] / train['payment_days']\n",
    "\n",
    "# Select variables of interest\n",
    "features = ['agency_name', 'inspector_name',  'violation_code', 'hearing_date', 'ticket_issued_date',\n",
    "            'judgment_amount','payment_days','amt_per_day' 'lat', 'lon', 'compliance']\n",
    "train = train[features]\n",
    "train = train.dropna()\n",
    "\n",
    "# Convert categorical variables to numeric\n",
    "le = preprocessing.LabelEncoder()\n",
    "categorical = list(train.select_dtypes(include=['object']).columns.values)\n",
    "for cat in categorical:\n",
    "    train[cat] = le.fit_transform(train[cat].astype(str))\n",
    "\n",
    "\n",
    "X = train.drop(\"compliance\", axis=1)\n",
    "y = train['compliance']\n",
    "\n",
    "# Split the training data further into train and test data \n",
    "X_train, X_test, y_train, y_test = train_test_split(X, y, random_state=0)"
   ]
  },
  {
   "cell_type": "markdown",
   "metadata": {
    "collapsed": true
   },
   "source": [
    "# Random Forests\n",
    "## Parameter Tuning"
   ]
  },
  {
   "cell_type": "code",
   "execution_count": 3,
   "metadata": {
    "collapsed": true
   },
   "outputs": [],
   "source": [
    "# Utility function to report best scores\n",
    "def report(results, n_top=3):\n",
    "    for i in range(1, n_top + 1):\n",
    "        candidates = np.flatnonzero(results['rank_test_score'] == i)\n",
    "        for candidate in candidates:\n",
    "            print(\"Model with rank: {0}\".format(i))\n",
    "            print(\"Mean AUC score: {0:.3f} (std: {1:.3f})\".format(\n",
    "                  results['mean_test_score'][candidate],\n",
    "                  results['std_test_score'][candidate]))\n",
    "            print(\"Parameters: {0}\".format(results['params'][candidate]))\n",
    "            print(\"\")"
   ]
  },
  {
   "cell_type": "code",
   "execution_count": null,
   "metadata": {},
   "outputs": [
    {
     "name": "stdout",
     "output_type": "stream",
     "text": [
      "==================================================\n",
      "Section 2: Evaluating Random Forests\n",
      "--------------------------------------------------\n"
     ]
    }
   ],
   "source": [
    "print(50*\"=\")\n",
    "print(\"Section 2: Evaluating Random Forests\")\n",
    "print(50*'-')\n",
    "\n",
    "# Build classifier\n",
    "clf = RandomForestClassifier()\n",
    "\n",
    "# Set parameter grid\n",
    "param_grid = {\"n_estimators\": range(20,61,20),\n",
    "              \"max_depth\": range(2,11,2),\n",
    "              \"max_features\": ['sqrt'],\n",
    "              \"min_samples_split\": range(400,1610, 200),\n",
    "              \"min_samples_leaf\": [10,60,20],\n",
    "              \"bootstrap\": [False]}\n",
    "\n",
    "# run grid search\n",
    "model_rf = GridSearchCV(clf, param_grid=param_grid, n_jobs=4, cv=3, scoring=\"roc_auc\")\n",
    "start = time()\n",
    "model_rf.fit(X_train, y_train)\n",
    "report(model_rf.cv_results_)\n",
    "print ('%s pipeline AUC score: %.3f' % (\"Random Forests\", \n",
    "                                        roc_auc_score(y_test, model_rf.predict_proba(X_test)[:,1])))"
   ]
  },
  {
   "cell_type": "markdown",
   "metadata": {},
   "source": [
    "# Random Forests Parameter Tuning"
   ]
  },
  {
   "cell_type": "code",
   "execution_count": 4,
   "metadata": {
    "collapsed": true
   },
   "outputs": [],
   "source": [
    "def modelfit(alg, X_train, y_train, X_test, y_test, features, performCV=True, printFeatureImportance=True, cv_folds=5):\n",
    "    #Fit the algorithm on the data\n",
    "    alg.fit(X_train, y_train)\n",
    "        \n",
    "    #Predict training set:\n",
    "    dtrain_predictions = alg.predict(X_train)\n",
    "    dtrain_predprob = alg.predict_proba(X_train)[:,1]\n",
    "    dtest_predprob = alg.predict_proba(X_test)[:,1]\n",
    "    \n",
    "    #Perform cross-validation:\n",
    "    if performCV:\n",
    "        cv_score = cross_val_score(alg, X_train, y_train, cv=cv_folds, scoring='roc_auc')\n",
    "    \n",
    "    #Print model report:\n",
    "    print (\"\\nModel Report\")\n",
    "    print (\"Accuracy : %.4g\" % metrics.accuracy_score(y_train.values, dtrain_predictions))\n",
    "    print (\"AUC Score (Train): %f\" % metrics.roc_auc_score(y_train, dtrain_predprob))\n",
    "    print (\"AUC Score (Test): %f\" % metrics.roc_auc_score(y_test, dtest_predprob))\n",
    "    \n",
    "    \n",
    "    if performCV:\n",
    "        print (\"CV Score : Mean - %.7g | Std - %.7g | Min - %.7g | Max - %.7g\" % (np.mean(cv_score),np.std(cv_score),np.min(cv_score),np.max(cv_score)))\n",
    "        \n",
    "    #Print Feature Importance:\n",
    "    if printFeatureImportance:\n",
    "        feat_imp = pd.Series(alg.feature_importances_, features).sort_values(ascending=False)\n",
    "        feat_imp.plot(kind='bar', title='Feature Importances')\n",
    "        plt.ylabel('Feature Importance Score')"
   ]
  },
  {
   "cell_type": "markdown",
   "metadata": {},
   "source": [
    "## Fix Number of Estimators "
   ]
  },
  {
   "cell_type": "code",
   "execution_count": 5,
   "metadata": {},
   "outputs": [
    {
     "name": "stdout",
     "output_type": "stream",
     "text": [
      "==================================================\n",
      "Section 3: Parameter Tuning for Random Forests\n",
      "--------------------------------------------------\n",
      "        3.1: Num. Estimators\n",
      "--------------------------------------------------\n"
     ]
    },
    {
     "data": {
      "text/plain": [
       "({'n_estimators': 80}, 0.8475268894402348)"
      ]
     },
     "execution_count": 5,
     "metadata": {},
     "output_type": "execute_result"
    }
   ],
   "source": [
    "print(50*\"=\")\n",
    "print(\"Section 3: Parameter Tuning for Random Forests\")\n",
    "print(50*'-')\n",
    "print(\"        3.1: Num. Estimators\")\n",
    "print(50*'-')\n",
    "\n",
    "\n",
    "param_test1 = {'n_estimators':range(10,101,10)}\n",
    "rf_gs1 = GridSearchCV(estimator = RandomForestClassifier(min_samples_split=500,\n",
    "                                                          min_samples_leaf=50,\n",
    "                                                          max_depth=8,\n",
    "                                                          max_features='sqrt',\n",
    "                                                          bootstrap = True,\n",
    "                                                          criterion = \"entropy\",                                                          \n",
    "                                                          random_state=5), \n",
    "                      param_grid = param_test1, scoring='roc_auc',n_jobs=4,iid=False, cv=5)\n",
    "rf_gs1.fit(X_train, y_train)\n",
    "rf_gs1.best_params_, rf_gs1.best_score_"
   ]
  },
  {
   "cell_type": "markdown",
   "metadata": {},
   "source": [
    "## Tree Based Parameters \n",
    "### Max Depth and Minimum Samples per Split"
   ]
  },
  {
   "cell_type": "code",
   "execution_count": 5,
   "metadata": {},
   "outputs": [
    {
     "name": "stdout",
     "output_type": "stream",
     "text": [
      "--------------------------------------------------\n",
      "Section 3.2: Parameter Tuning for Gradient-Boosted Decision Trees: Max Depth & Min Samples per Split\n",
      "--------------------------------------------------\n"
     ]
    },
    {
     "data": {
      "text/plain": [
       "({'max_depth': 14, 'min_samples_split': 800}, 0.85371977749842198)"
      ]
     },
     "execution_count": 5,
     "metadata": {},
     "output_type": "execute_result"
    }
   ],
   "source": [
    "print(50*\"-\")\n",
    "print(\"Section 3.2: Parameter Tuning for Gradient-Boosted Decision Trees: Max Depth & Min Samples per Split\")\n",
    "print(50*'-')\n",
    "\n",
    "param_test2 = {'max_depth':range(4,16,2), 'min_samples_split':range(800,2001,200)}\n",
    "rf_gs2 = GridSearchCV(estimator = RandomForestClassifier(n_estimators=20,\n",
    "                                                          min_samples_leaf=50,\n",
    "                                                          max_features='sqrt',\n",
    "                                                          bootstrap = True,\n",
    "                                                          criterion = \"entropy\",                                                          \n",
    "                                                          random_state=5), \n",
    "                       param_grid = param_test2, scoring='roc_auc',n_jobs=4,iid=False, cv=5)\n",
    "rf_gs2.fit(X_train, y_train)\n",
    "rf_gs2.best_params_, rf_gs2.best_score_"
   ]
  },
  {
   "cell_type": "markdown",
   "metadata": {},
   "source": [
    "### Minimum Samples per Split and Minimum Samples per Leaf"
   ]
  },
  {
   "cell_type": "code",
   "execution_count": 8,
   "metadata": {},
   "outputs": [
    {
     "name": "stdout",
     "output_type": "stream",
     "text": [
      "--------------------------------------------------\n",
      "Section 3.3: Parameter Tuning for Gradient-Boosted Decision Trees: Min. Samples per Split and Leaf\n",
      "--------------------------------------------------\n"
     ]
    },
    {
     "data": {
      "text/plain": [
       "({'min_samples_leaf': 30, 'min_samples_split': 600}, 0.85598592020280651)"
      ]
     },
     "execution_count": 8,
     "metadata": {},
     "output_type": "execute_result"
    }
   ],
   "source": [
    "print(50*\"-\")\n",
    "print(\"Section 3.3: Parameter Tuning for Gradient-Boosted Decision Trees: Min. Samples per Split and Leaf\")\n",
    "print(50*'-')\n",
    "\n",
    "param_test3 = {'min_samples_split':range(600,1210,200), 'min_samples_leaf':range(30,71,10)}\n",
    "rf_gs3 = GridSearchCV(estimator = RandomForestClassifier(n_estimators=20,\n",
    "                                                          max_depth=14,\n",
    "                                                          max_features='sqrt',\n",
    "                                                          bootstrap = True,\n",
    "                                                          criterion = \"entropy\",                                                          \n",
    "                                                          random_state=5), \n",
    "                       param_grid = param_test3, scoring='roc_auc',n_jobs=4,iid=False, cv=5)\n",
    "rf_gs3.fit(X_train, y_train)\n",
    "rf_gs3.best_params_, rf_gs3.best_score_"
   ]
  },
  {
   "cell_type": "code",
   "execution_count": 10,
   "metadata": {},
   "outputs": [
    {
     "name": "stdout",
     "output_type": "stream",
     "text": [
      "--------------------------------------------------\n",
      "Section 3.4: Parameter Tuning for Gradient-Boosted Decision Trees: Max Features\n",
      "--------------------------------------------------\n",
      "{'max_features': 4}\n",
      "0.859399192039\n",
      "\n",
      "Model Report\n",
      "Accuracy : 0.956\n",
      "AUC Score (Train): 0.881161\n",
      "AUC Score (Test): 0.851143\n",
      "CV Score : Mean - 0.8593992 | Std - 0.004004039 | Min - 0.8529886 | Max - 0.8642044\n"
     ]
    }
   ],
   "source": [
    "print(50*\"-\")\n",
    "print(\"Section 3.4: Parameter Tuning for Gradient-Boosted Decision Trees: Max Features\")\n",
    "print(50*'-')\n",
    "\n",
    "features = X_train.shape[1]\n",
    "param_test4 = {'max_features':range(2,features,2)}\n",
    "rf_gs4 = GridSearchCV(estimator = RandomForestClassifier(n_estimators=20,\n",
    "                                                         min_samples_leaf=30,\n",
    "                                                         min_samples_split=600,\n",
    "                                                         max_features=4,\n",
    "                                                          max_depth=14,\n",
    "                                                          bootstrap = True,\n",
    "                                                          criterion = \"entropy\",                                                          \n",
    "                                                          random_state=5), \n",
    "                       param_grid = param_test4, scoring='roc_auc',n_jobs=4,iid=False, cv=5)\n",
    "rf_gs4.fit(X_train, y_train)\n",
    "print(rf_gs4.best_params_)\n",
    "print(rf_gs4.best_score_)\n",
    "modelfit(rf_gs4.best_estimator_, X_train, y_train, X_test, y_test, features = list(X_train.columns.values))"
   ]
  },
  {
   "cell_type": "markdown",
   "metadata": {
    "collapsed": true
   },
   "source": [
    "### Tune Learning Rate vis-a-vis Number of Estimators"
   ]
  },
  {
   "cell_type": "code",
   "execution_count": 21,
   "metadata": {},
   "outputs": [
    {
     "name": "stdout",
     "output_type": "stream",
     "text": [
      "--------------------------------------------------\n",
      "Section 3.5: Parameter Tuning for Gradient-Boosted Decision Trees: Learning Rate and Num Estimators\n",
      "--------------------------------------------------\n",
      "\n",
      "Model Report\n",
      "Accuracy : 0.9433\n",
      "AUC Score (Train): 0.889348\n",
      "AUC Score (Test): 0.812646\n",
      "CV Score : Mean - 0.8037119 | Std - 0.006508282 | Min - 0.7982864 | Max - 0.8162522\n",
      "\n",
      "Model Report\n",
      "Accuracy : 0.9438\n",
      "AUC Score (Train): 0.896345\n",
      "AUC Score (Test): 0.821762\n",
      "CV Score : Mean - 0.8082644 | Std - 0.006641414 | Min - 0.8022975 | Max - 0.8203171\n",
      "\n",
      "Model Report\n",
      "Accuracy : 0.9443\n",
      "AUC Score (Train): 0.904220\n",
      "AUC Score (Test): 0.827907\n",
      "CV Score : Mean - 0.8132952 | Std - 0.006349687 | Min - 0.8078655 | Max - 0.8252467\n",
      "\n",
      "Model Report\n",
      "Accuracy : 0.9443\n",
      "AUC Score (Train): 0.902832\n",
      "AUC Score (Test): 0.827952\n",
      "CV Score : Mean - 0.8144183 | Std - 0.006741235 | Min - 0.8077991 | Max - 0.8269517\n"
     ]
    }
   ],
   "source": [
    "print(50*\"-\")\n",
    "print(\"Section 3.5: Parameter Tuning for Gradient-Boosted Decision Trees: Learning Rate and Num Estimators\")\n",
    "print(50*'-')\n",
    "def gbmEvaluator(X_train, y_train, X_test, y_test, learning_rate, n_estimators):\n",
    "    gbm_tuned = GradientBoostingClassifier(learning_rate=learning_rate, \n",
    "                                           n_estimators=n_estimators, \n",
    "                                           max_features=2, \n",
    "                                           max_depth=15,\n",
    "                                           min_samples_leaf=60,\n",
    "                                           min_samples_split=1600,\n",
    "                                           subsample=0.8, \n",
    "                                           random_state=5)\n",
    "    gbm_tuned.fit(X_train, y_train)\n",
    "    modelfit(gbm_tuned, X_train, y_train, X_test, y_test, features = list(X_train.columns.values))\n",
    "\n",
    "learning_rates = [.3, .3/2, .3/10, .3/20]\n",
    "n_estimators = [70, 70*2, 70*10, 70*20]\n",
    "for lr, est in zip(learning_rates, n_estimators):\n",
    "    gbmEvaluator(X_train, y_train, X_test, y_test, lr, est)\n",
    "    "
   ]
  },
  {
   "cell_type": "markdown",
   "metadata": {},
   "source": [
    "# Neural Networks"
   ]
  },
  {
   "cell_type": "code",
   "execution_count": 25,
   "metadata": {},
   "outputs": [
    {
     "name": "stdout",
     "output_type": "stream",
     "text": [
      "==================================================\n",
      "Section 4: Parameter Tuning for Neural Network\n",
      "--------------------------------------------------\n",
      "\n",
      "Model Report\n",
      "Accuracy : 0.9283\n",
      "AUC Score (Train): 0.539167\n",
      "AUC Score (Test): 0.534671\n",
      "CV Score : Mean - 0.5720955 | Std - 0.04459888 | Min - 0.5130357 | Max - 0.6503562\n"
     ]
    }
   ],
   "source": [
    "print(50*\"=\")\n",
    "print(\"Section 4: Parameter Tuning for Neural Network\")\n",
    "print(50*'-')\n",
    "\n",
    "# Set parameter grid\n",
    "param_grid = {\"hidden_layer_sizes\": [10, 10],\n",
    "              \"activation\": ['logistic', 'tanh', 'relu'],\n",
    "              \"solver\": ['lbfgs', 'sgd', 'adam'],\n",
    "              \"alpha\": [0.01, 0.1, 1.0, 5.0],\n",
    "              'max_iter': [500,1000,1500]}\n",
    "\n",
    "nn_gs = GridSearchCV(estimator = MLPClassifier(random_state=5), \n",
    "                       param_grid = param_grid, scoring='roc_auc',n_jobs=4,iid=False, cv=5)\n",
    "nn_gs.fit(X_train, y_train)\n",
    "nn_gs.best_params_, nn_gs.best_score_\n",
    "modelfit(nn_gs.best_estimator_, X_train, y_train, X_test, y_test, features = list(X_train.columns.values))"
   ]
  },
  {
   "cell_type": "code",
   "execution_count": null,
   "metadata": {
    "collapsed": true
   },
   "outputs": [],
   "source": []
  }
 ],
 "metadata": {
  "coursera": {
   "course_slug": "python-machine-learning",
   "graded_item_id": "nNS8l",
   "launcher_item_id": "yWWk7",
   "part_id": "w8BSS"
  },
  "kernelspec": {
   "display_name": "Python 3",
   "language": "python",
   "name": "python3"
  },
  "language_info": {
   "codemirror_mode": {
    "name": "ipython",
    "version": 3
   },
   "file_extension": ".py",
   "mimetype": "text/x-python",
   "name": "python",
   "nbconvert_exporter": "python",
   "pygments_lexer": "ipython3",
   "version": "3.6.1"
  }
 },
 "nbformat": 4,
 "nbformat_minor": 2
}
