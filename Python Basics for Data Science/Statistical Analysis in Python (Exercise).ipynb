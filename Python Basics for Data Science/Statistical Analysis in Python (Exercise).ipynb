{
 "cells": [
  {
   "cell_type": "markdown",
   "metadata": {},
   "source": [
    "---\n",
    "\n",
    "_You are currently looking at **version 1.1** of this notebook. To download notebooks and datafiles, as well as get help on Jupyter notebooks in the Coursera platform, visit the [Jupyter Notebook FAQ](https://www.coursera.org/learn/python-data-analysis/resources/0dhYG) course resource._\n",
    "\n",
    "---"
   ]
  },
  {
   "cell_type": "code",
   "execution_count": 17,
   "metadata": {
    "collapsed": true
   },
   "outputs": [],
   "source": [
    "import pandas as pd\n",
    "import numpy as np\n",
    "from scipy.stats import ttest_ind\n",
    "import re\n",
    "import io\n",
    "pd.set_option('display.max_rows', 520)"
   ]
  },
  {
   "cell_type": "markdown",
   "metadata": {},
   "source": [
    "# Assignment 4 - Hypothesis Testing\n",
    "This assignment requires more individual learning than previous assignments - you are encouraged to check out the [pandas documentation](http://pandas.pydata.org/pandas-docs/stable/) to find functions or methods you might not have used yet, or ask questions on [Stack Overflow](http://stackoverflow.com/) and tag them as pandas and python related. And of course, the discussion forums are open for interaction with your peers and the course staff.\n",
    "\n",
    "Definitions:\n",
    "* A _quarter_ is a specific three month period, Q1 is January through March, Q2 is April through June, Q3 is July through September, Q4 is October through December.\n",
    "* A _recession_ is defined as starting with two consecutive quarters of GDP decline, and ending with two consecutive quarters of GDP growth.\n",
    "* A _recession bottom_ is the quarter within a recession which had the lowest GDP.\n",
    "* A _university town_ is a city which has a high percentage of university students compared to the total population of the city.\n",
    "\n",
    "**Hypothesis**: University towns have their mean housing prices less effected by recessions. Run a t-test to compare the ratio of the mean price of houses in university towns the quarter before the recession starts compared to the recession bottom. (`price_ratio=quarter_before_recession/recession_bottom`)\n",
    "\n",
    "The following data files are available for this assignment:\n",
    "* From the [Zillow research data site](http://www.zillow.com/research/data/) there is housing data for the United States. In particular the datafile for [all homes at a city level](http://files.zillowstatic.com/research/public/City/City_Zhvi_AllHomes.csv), ```City_Zhvi_AllHomes.csv```, has median home sale prices at a fine grained level.\n",
    "* From the Wikipedia page on college towns is a list of [university towns in the United States](https://en.wikipedia.org/wiki/List_of_college_towns#College_towns_in_the_United_States) which has been copy and pasted into the file ```university_towns.txt```.\n",
    "* From Bureau of Economic Analysis, US Department of Commerce, the [GDP over time](http://www.bea.gov/national/index.htm#gdp) of the United States in current dollars (use the chained value in 2009 dollars), in quarterly intervals, in the file ```gdplev.xls```. For this assignment, only look at GDP data from the first quarter of 2000 onward.\n",
    "\n",
    "Each function in this assignment below is worth 10%, with the exception of ```run_ttest()```, which is worth 50%."
   ]
  },
  {
   "cell_type": "code",
   "execution_count": 11,
   "metadata": {
    "collapsed": true
   },
   "outputs": [],
   "source": [
    "# Use this dictionary to map state names to two letter acronyms\n",
    "states = {'OH': 'Ohio', 'KY': 'Kentucky', 'AS': 'American Samoa', 'NV': 'Nevada', 'WY': 'Wyoming', 'NA': 'National', 'AL': 'Alabama', 'MD': 'Maryland', 'AK': 'Alaska', 'UT': 'Utah', 'OR': 'Oregon', 'MT': 'Montana', 'IL': 'Illinois', 'TN': 'Tennessee', 'DC': 'District of Columbia', 'VT': 'Vermont', 'ID': 'Idaho', 'AR': 'Arkansas', 'ME': 'Maine', 'WA': 'Washington', 'HI': 'Hawaii', 'WI': 'Wisconsin', 'MI': 'Michigan', 'IN': 'Indiana', 'NJ': 'New Jersey', 'AZ': 'Arizona', 'GU': 'Guam', 'MS': 'Mississippi', 'PR': 'Puerto Rico', 'NC': 'North Carolina', 'TX': 'Texas', 'SD': 'South Dakota', 'MP': 'Northern Mariana Islands', 'IA': 'Iowa', 'MO': 'Missouri', 'CT': 'Connecticut', 'WV': 'West Virginia', 'SC': 'South Carolina', 'LA': 'Louisiana', 'KS': 'Kansas', 'NY': 'New York', 'NE': 'Nebraska', 'OK': 'Oklahoma', 'FL': 'Florida', 'CA': 'California', 'CO': 'Colorado', 'PA': 'Pennsylvania', 'DE': 'Delaware', 'NM': 'New Mexico', 'RI': 'Rhode Island', 'MN': 'Minnesota', 'VI': 'Virgin Islands', 'NH': 'New Hampshire', 'MA': 'Massachusetts', 'GA': 'Georgia', 'ND': 'North Dakota', 'VA': 'Virginia'}"
   ]
  },
  {
   "cell_type": "code",
   "execution_count": 12,
   "metadata": {
    "collapsed": true
   },
   "outputs": [],
   "source": [
    "def strip_string(s):    \n",
    "    s = re.sub(r\"\\s*\\[.*\\s*\",\"\", s)\n",
    "    s = re.sub(r\"\\s*\\(.*\\s*\",\"\", s)\n",
    "    s = re.sub(u\"\\u2014\", \"\", s)\n",
    "    s = s.strip()\n",
    "    return(s)"
   ]
  },
  {
   "cell_type": "code",
   "execution_count": 69,
   "metadata": {
    "collapsed": true
   },
   "outputs": [],
   "source": [
    "def get_list_of_university_towns():\n",
    "    '''Returns a DataFrame of towns and the states they are in from the \n",
    "    university_towns.txt list. The format of the DataFrame should be:\n",
    "    DataFrame( [ [\"Michigan\", \"Ann Arbor\"], [\"Michigan\", \"Yipsilanti\"] ], \n",
    "    columns=[\"State\", \"RegionName\"]  )\n",
    "    \n",
    "    The following cleaning needs to be done:\n",
    "\n",
    "    1. For \"State\", removing characters from \"[\" to the end.\n",
    "    2. For \"RegionName\", when applicable, removing every character from \" (\" to the end.\n",
    "    3. Depending on how you read the data, you may need to remove newline character '\\n'. '''\n",
    "    v = []\n",
    "    state = \"\"\n",
    "    region = \"\"        \n",
    "    #lines = open('university_towns.txt').read().splitlines()\n",
    "    lines = io.open('university_towns.txt', mode = \"r\", encoding = \"utf-8\").read().splitlines()\n",
    "    df = pd.DataFrame(lines, columns = list(\"T\"))\n",
    "    df['State'] = df[\"T\"].apply(lambda x: x.split('[edit]')[0].strip() if x.count('[edit]') > 0 else np.NaN).fillna(method=\"ffill\")\n",
    "    df['RegionName'] = df[\"T\"].apply(lambda x: strip_string(x) if x.count(\"[edit]\") == 0  else np.NaN)\n",
    "    df = df.dropna().drop('T', axis=1).reindex(columns=['State', 'RegionName']).reset_index(drop=True)\n",
    "    return (df)"
   ]
  },
  {
   "cell_type": "code",
   "execution_count": 70,
   "metadata": {
    "scrolled": true
   },
   "outputs": [],
   "source": [
    "def get_gdp():\n",
    "    '''Returns the year and quarter of the recession start time as a \n",
    "    string value in a format such as 2005q3'''\n",
    "    cols = [\"Quarter\", \"GDP\"]\n",
    "    gdp = pd.read_excel('gdplev.xls', skiprows = 219, usecols = [4,6], names = cols) \n",
    "    gdp[\"GDP-1\"] = gdp[\"GDP\"].shift(1)\n",
    "    gdp[\"GDP-2\"] = gdp[\"GDP\"].shift(2)\n",
    "    gdp[\"GDP+1\"] = gdp[\"GDP\"].shift(-1)\n",
    "    gdp[\"GDP+2\"] = gdp[\"GDP\"].shift(-2)\n",
    "    return gdp\n",
    "#get_gdp()"
   ]
  },
  {
   "cell_type": "code",
   "execution_count": 71,
   "metadata": {},
   "outputs": [],
   "source": [
    "def get_recession_start():\n",
    "    '''Returns the year and quarter of the recession start time as a \n",
    "    string value in a format such as 2005q3'''\n",
    "    gdp = get_gdp()\n",
    "    gdp[\"RecessionStart\"] = (gdp[\"GDP-1\"] > gdp[\"GDP\"]) & (gdp[\"GDP\"] > gdp[\"GDP+1\"]) &(gdp[\"GDP+1\"] > gdp[\"GDP+2\"])\n",
    "    qtr = gdp[gdp[\"RecessionStart\"] == True]\n",
    "    return qtr[\"Quarter\"].min()\n",
    "#get_recession_start()"
   ]
  },
  {
   "cell_type": "code",
   "execution_count": 76,
   "metadata": {},
   "outputs": [
    {
     "data": {
      "text/plain": [
       "'2009q4'"
      ]
     },
     "execution_count": 76,
     "metadata": {},
     "output_type": "execute_result"
    }
   ],
   "source": [
    "def get_recession_end():\n",
    "    '''Returns the year and quarter of the recession end time as a \n",
    "    string value in a format such as 2005q3'''\n",
    "    gdp = get_gdp()\n",
    "    start = get_recession_start()\n",
    "    gdp[\"RecessionEnd\"] = (gdp[\"GDP\"] > gdp[\"GDP-1\"]) & (gdp[\"GDP-1\"] > gdp[\"GDP-2\"]) & (gdp[\"Quarter\"] > start)\n",
    "    qtr = gdp[gdp[\"RecessionEnd\"] == True]\n",
    "    return qtr[\"Quarter\"].min()\n",
    "#get_recession_end()"
   ]
  },
  {
   "cell_type": "code",
   "execution_count": 73,
   "metadata": {
    "collapsed": true
   },
   "outputs": [],
   "source": [
    "def get_recession_bottom():\n",
    "    '''Returns the year and quarter of the recession bottom time as a \n",
    "    string value in a format such as 2005q3'''\n",
    "    gdp = get_gdp()\n",
    "    start = get_recession_start()\n",
    "    end = get_recession_end()\n",
    "    recession = gdp[(gdp[\"Quarter\"] >= start) & (gdp[\"Quarter\"] <= end)]\n",
    "    bottom = recession.loc[recession[\"GDP\"].idxmin(), \"Quarter\"]    \n",
    "    return bottom"
   ]
  },
  {
   "cell_type": "code",
   "execution_count": 74,
   "metadata": {
    "collapsed": true
   },
   "outputs": [],
   "source": [
    "def convert_housing_data_to_quarters():\n",
    "    '''Converts the housing data to quarters and returns it as mean \n",
    "    values in a dataframe. This dataframe should be a dataframe with\n",
    "    columns for 2000q1 through 2016q3, and should have a multi-index\n",
    "    in the shape of [\"State\",\"RegionName\"].\n",
    "    \n",
    "    Note: Quarters are defined in the assignment description, they are\n",
    "    not arbitrary three month periods.\n",
    "    \n",
    "    The resulting dataframe should have 67 columns, and 10,730 rows.\n",
    "    '''\n",
    "    # Read housing data\n",
    "    housing = pd.read_csv(\"City_Zhvi_AllHomes.csv\", usecols = list(range(1,3)) + list(range(51, 251)))\n",
    "    housing[\"State\"] = housing[\"State\"].map(states)\n",
    "    housing = housing.set_index([\"State\", \"RegionName\"])\n",
    "        \n",
    "    # Separate time columns\n",
    "    tdf = housing[housing.columns[1:]].rename(columns=pd.to_datetime)\n",
    "    tcols = tdf.columns\n",
    "    \n",
    "    # Select columns, resample, rename\n",
    "    qdf = tdf[tcols].resample('Q',axis=1).mean().rename(\n",
    "    columns=lambda x: str(x.to_period(\"Q\")).lower())\n",
    "    \n",
    "    return qdf"
   ]
  },
  {
   "cell_type": "code",
   "execution_count": 75,
   "metadata": {},
   "outputs": [],
   "source": [
    "def run_ttest():\n",
    "    '''First creates new data showing the decline or growth of housing prices\n",
    "    between the recession start and the recession bottom. Then runs a ttest\n",
    "    comparing the university town values to the non-university towns values, \n",
    "    return whether the alternative hypothesis (that the two groups are the same)\n",
    "    is true or not as well as the p-value of the confidence. \n",
    "    \n",
    "    Return the tuple (different, p, better) where different=True if the t-test is\n",
    "    True at a p<0.01 (we reject the null hypothesis), or different=False if \n",
    "    otherwise (we cannot reject the null hypothesis). The variable p should\n",
    "    be equal to the exact p value returned from scipy.stats.ttest_ind(). The\n",
    "    value for better should be either \"university town\" or \"non-university town\"\n",
    "    depending on which has a lower mean price ratio (which is equivilent to a\n",
    "    reduced market loss).'''\n",
    "    \n",
    "    # Obtain data    \n",
    "    hdf = convert_housing_data_to_quarters()\n",
    "    start = get_recession_start()\n",
    "    bottom = get_recession_bottom()\n",
    "    ut = get_list_of_university_towns()\n",
    "    \n",
    "    # Set quarter before start of recession\n",
    "    qb4 = hdf.columns[hdf.columns.get_loc(start)-1]\n",
    "    \n",
    "    # Add price ratio column\n",
    "    hdf[\"PriceRatio\"] = hdf[qb4].div(hdf[bottom])\n",
    "    \n",
    "    # Split data into university and non-university town data\n",
    "    ut_list = ut.to_records(index = False).tolist()\n",
    "    ut_hdf = hdf.loc[ut_list]\n",
    "    non_ut_hdf = hdf.loc[~(hdf.index.isin(ut_list))]\n",
    "    \n",
    "    # Conduct t-test\n",
    "    t, p = ttest_ind(ut_hdf[\"PriceRatio\"], non_ut_hdf[\"PriceRatio\"], equal_var = True, nan_policy = \"omit\")\n",
    "    #print('ttest_ind result: t={}, pvalue={}'.format(t, p))\n",
    "    \n",
    "    # Format output\n",
    "    if p < .01:\n",
    "        different = True\n",
    "    else:\n",
    "        different = False\n",
    "    \n",
    "    if (t > 0):\n",
    "        better = \"non-university town\"\n",
    "    else:\n",
    "        better = \"university town\"\n",
    "\n",
    "    res = (different, p, better)\n",
    "    return res"
   ]
  },
  {
   "cell_type": "code",
   "execution_count": null,
   "metadata": {
    "collapsed": true
   },
   "outputs": [],
   "source": []
  }
 ],
 "metadata": {
  "coursera": {
   "course_slug": "python-data-analysis",
   "graded_item_id": "Il9Fx",
   "launcher_item_id": "TeDW0",
   "part_id": "WGlun"
  },
  "kernelspec": {
   "display_name": "Python 3",
   "language": "python",
   "name": "python3"
  },
  "language_info": {
   "codemirror_mode": {
    "name": "ipython",
    "version": 3
   },
   "file_extension": ".py",
   "mimetype": "text/x-python",
   "name": "python",
   "nbconvert_exporter": "python",
   "pygments_lexer": "ipython3",
   "version": "3.6.1"
  }
 },
 "nbformat": 4,
 "nbformat_minor": 1
}
