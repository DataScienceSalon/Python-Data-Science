{
 "cells": [
  {
   "cell_type": "markdown",
   "metadata": {},
   "source": [
    "# Assignment 3 - Building a Custom Visualization\n",
    "\n",
    "---\n",
    "\n",
    "In this assignment you must choose one of the options presented below and submit a visual as well as your source code for peer grading. The details of how you solve the assignment are up to you, although your assignment must use matplotlib so that your peers can evaluate your work. The options differ in challenge level, but there are no grades associated with the challenge level you chose. However, your peers will be asked to ensure you at least met a minimum quality for a given technique in order to pass. Implement the technique fully (or exceed it!) and you should be able to earn full grades for the assignment.\n",
    "\n",
    "\n",
    "&nbsp;&nbsp;&nbsp;&nbsp;&nbsp;&nbsp;Ferreira, N., Fisher, D., & Konig, A. C. (2014, April). [Sample-oriented task-driven visualizations: allowing users to make better, more confident decisions.](https://www.microsoft.com/en-us/research/wp-content/uploads/2016/02/Ferreira_Fisher_Sample_Oriented_Tasks.pdf) \n",
    "&nbsp;&nbsp;&nbsp;&nbsp;&nbsp;&nbsp;In Proceedings of the SIGCHI Conference on Human Factors in Computing Systems (pp. 571-580). ACM. ([video](https://www.youtube.com/watch?v=BI7GAs-va-Q))\n",
    "\n",
    "\n",
    "In this [paper](https://www.microsoft.com/en-us/research/wp-content/uploads/2016/02/Ferreira_Fisher_Sample_Oriented_Tasks.pdf) the authors describe the challenges users face when trying to make judgements about probabilistic data generated through samples. As an example, they look at a bar chart of four years of data (replicated below in Figure 1). Each year has a y-axis value, which is derived from a sample of a larger dataset. For instance, the first value might be the number votes in a given district or riding for 1992, with the average being around 33,000. On top of this is plotted the 95% confidence interval for the mean (see the boxplot lectures for more information, and the yerr parameter of barcharts).\n",
    "\n",
    "<br>\n",
    "<img src=\"readonly/Assignment3Fig1.png\" alt=\"Figure 1\" style=\"width: 400px;\"/>\n",
    "<h4 style=\"text-align: center;\" markdown=\"1\">  &nbsp;&nbsp;&nbsp;&nbsp;&nbsp;&nbsp;&nbsp;&nbsp;Figure 1 from (Ferreira et al, 2014).</h4>\n",
    "\n",
    "<br>\n",
    "\n",
    "A challenge that users face is that, for a given y-axis value (e.g. 42,000), it is difficult to know which x-axis values are most likely to be representative, because the confidence levels overlap and their distributions are different (the lengths of the confidence interval bars are unequal). One of the solutions the authors propose for this problem (Figure 2c) is to allow users to indicate the y-axis value of interest (e.g. 42,000) and then draw a horizontal line and color bars based on this value. So bars might be colored red if they are definitely above this value (given the confidence interval), blue if they are definitely below this value, or white if they contain this value.\n",
    "\n",
    "\n",
    "<br>\n",
    "<img src=\"readonly/Assignment3Fig2c.png\" alt=\"Figure 1\" style=\"width: 400px;\"/>\n",
    "<h4 style=\"text-align: center;\" markdown=\"1\">  Figure 2c from (Ferreira et al. 2014). Note that the colorbar legend at the bottom as well as the arrows are not required in the assignment descriptions below.</h4>\n",
    "\n",
    "<br>\n",
    "<br>\n",
    "\n",
    "**Easiest option:** Implement the bar coloring as described above - a color scale with only three colors, (e.g. blue, white, and red). Assume the user provides the y axis value of interest as a parameter or variable.\n",
    "\n",
    "\n",
    "**Harder option:** Implement the bar coloring as described in the paper, where the color of the bar is actually based on the amount of data covered (e.g. a gradient ranging from dark blue for the distribution being certainly below this y-axis, to white if the value is certainly contained, to dark red if the value is certainly not contained as the distribution is above the axis).\n",
    "\n",
    "**Even Harder option:** Add interactivity to the above, which allows the user to click on the y axis to set the value of interest. The bar colors should change with respect to what value the user has selected.\n",
    "\n",
    "**Hardest option:** Allow the user to interactively set a range of y values they are interested in, and recolor based on this (e.g. a y-axis band, see the paper for more details).\n",
    "\n",
    "---\n",
    "\n",
    "*Note: The data given for this assignment is not the same as the data used in the article and as a result the visualizations may look a little different.*"
   ]
  },
  {
   "cell_type": "code",
   "execution_count": 18,
   "metadata": {
    "collapsed": true
   },
   "outputs": [],
   "source": [
    "# Libraries\n",
    "import pandas as pd\n",
    "import numpy as np\n",
    "import matplotlib.pyplot as plt\n",
    "from matplotlib import cm\n",
    "import scipy.stats as st"
   ]
  },
  {
   "cell_type": "code",
   "execution_count": 19,
   "metadata": {
    "collapsed": true
   },
   "outputs": [],
   "source": [
    "# Use the following data for this assignment:\n",
    "np.random.seed(12345)\n",
    "\n",
    "df = pd.DataFrame([np.random.normal(32000,200000,3650), \n",
    "                   np.random.normal(43000,100000,3650), \n",
    "                   np.random.normal(43500,140000,3650), \n",
    "                   np.random.normal(48000,70000,3650)], \n",
    "                  index=[1992,1993,1994,1995])"
   ]
  },
  {
   "cell_type": "code",
   "execution_count": 20,
   "metadata": {
    "collapsed": true
   },
   "outputs": [],
   "source": [
    "# Compute descriptive statistics\n",
    "def get_ci(df, sig):\n",
    "    ci = []\n",
    "    for index, row in df.iterrows():\n",
    "        ci.append(st.t.interval(sig, len(df.loc[index])-2, loc=np.mean(df.loc[index]), scale=st.sem(df.loc[index])))\n",
    "    return ci\n",
    "\n",
    "def get_stats(df):\n",
    "    means = np.mean(np.array(df), axis = 1)\n",
    "    sem =  st.sem(np.array(df), axis = 1)\n",
    "    ci = np.array(get_ci(df, sig = 0.95))\n",
    "    yerr = np.c_[means-ci[:,0],ci[:,1]-means ].T\n",
    "    return means, sem, ci, yerr"
   ]
  },
  {
   "cell_type": "code",
   "execution_count": 21,
   "metadata": {
    "collapsed": true
   },
   "outputs": [],
   "source": [
    "# Designate colors\n",
    "def get_colors(y, ci):\n",
    "    colors = []\n",
    "    for interval in ci:\n",
    "        if y < interval[0]:\n",
    "            colors.append('darkblue')\n",
    "        elif y > interval[1]:\n",
    "            colors.append('crimson')\n",
    "        else:\n",
    "            colors.append('w')\n",
    "    return(colors)"
   ]
  },
  {
   "cell_type": "code",
   "execution_count": 22,
   "metadata": {},
   "outputs": [
    {
     "data": {
      "image/png": "[encoded data removed]",
      "text/plain": [
       "<matplotlib.figure.Figure at 0x1c12821dcf8>"
      ]
     },
     "metadata": {},
     "output_type": "display_data"
    }
   ],
   "source": [
    "# Easy Plot\n",
    "def plot1(y, df):\n",
    "    \n",
    "    # Obtain statistics\n",
    "    means, sem, ci, yerr = get_stats(df)\n",
    "    \n",
    "    # Designate basic bar chart parameters\n",
    "    x = np.arange(len(means))  # the x locations for the groups\n",
    "    width = 1  # the width of the bars\n",
    "    opacity = 1\n",
    "    \n",
    "    # Build figure, axes and bar charts\n",
    "    fig, ax = plt.subplots()\n",
    "    bars = ax.bar(x, means, width, yerr = yerr, alpha = opacity,\n",
    "                  color = get_colors(y, ci), linewidth = 1.0,\n",
    "                 edgecolor = 'black', capsize = 5)\n",
    "    ax.axhline(y)\n",
    "    ax.set_xlabel('Years')\n",
    "    ax.set_ylabel('Scores')\n",
    "    ax.set_title('Sample Visualization One')\n",
    "    ax.set_xticks(x + width / 2)\n",
    "    ax.set_xticklabels(('1992', '1993', '1994', '1995'))\n",
    "    plt.show()\n",
    "plot1(y = 55000, df = df)"
   ]
  },
  {
   "cell_type": "code",
   "execution_count": 23,
   "metadata": {},
   "outputs": [],
   "source": [
    "# Determine coverage\n",
    "def get_coverage(y, ci):\n",
    "    coverage = []\n",
    "    for interval in ci:\n",
    "        if y < interval[0]:\n",
    "            coverage.append(1)\n",
    "        elif y > interval[1]:\n",
    "            coverage.append(0)\n",
    "        else:\n",
    "            c = (interval[1] - y) / (interval[1] - interval[0])\n",
    "            coverage.append(c)\n",
    "    return(coverage)"
   ]
  },
  {
   "cell_type": "code",
   "execution_count": 38,
   "metadata": {},
   "outputs": [
    {
     "data": {
      "image/png": "[encoded data removed]",
      "text/plain": [
       "<matplotlib.figure.Figure at 0x1c127e7c128>"
      ]
     },
     "metadata": {},
     "output_type": "display_data"
    }
   ],
   "source": [
    "# Harder Chart\n",
    "def plot2(y, df):\n",
    "    means, sem, ci, yerr = get_stats(df)\n",
    "    coverage = np.array(get_coverage(y = y, ci = get_ci(df, 0.95)))\n",
    "    colors = cm.RdBu_r(coverage)\n",
    "    plot = plt.scatter(coverage, coverage, c = coverage, cmap = 'RdBu_r')\n",
    "    plt.clf()\n",
    "    plt.colorbar(plot)\n",
    "    plt.bar(range(len(means)), means, color = colors, yerr = yerr, \n",
    "                  linewidth = 1.0, edgecolor = 'black', capsize = 5)\n",
    "    plt.axhline(y = y)\n",
    "    plt.xlabel('Years')\n",
    "    plt.ylabel('Scores')\n",
    "    plt.title('Sample Visualization Two')\n",
    "    plt.xticks(np.arange(4), ('1992', '1993', '1994', '1995'))\n",
    "    plt.show()\n",
    "plot2(y = 35000, df = df)"
   ]
  },
  {
   "cell_type": "code",
   "execution_count": null,
   "metadata": {
    "collapsed": true
   },
   "outputs": [],
   "source": []
  }
 ],
 "metadata": {
  "kernelspec": {
   "display_name": "Python 3",
   "language": "python",
   "name": "python3"
  },
  "language_info": {
   "codemirror_mode": {
    "name": "ipython",
    "version": 3
   },
   "file_extension": ".py",
   "mimetype": "text/x-python",
   "name": "python",
   "nbconvert_exporter": "python",
   "pygments_lexer": "ipython3",
   "version": "3.6.1"
  }
 },
 "nbformat": 4,
 "nbformat_minor": 2
}
